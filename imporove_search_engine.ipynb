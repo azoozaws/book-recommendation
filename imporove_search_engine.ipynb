{
 "cells": [
  {
   "cell_type": "code",
   "execution_count": 6,
   "metadata": {},
   "outputs": [],
   "source": [
    "import numpy as np\n",
    "import pandas as pd\n",
    "import matplotlib.pyplot as plt\n",
    "import seaborn as sns\n",
    "import gzip\n",
    "import json\n",
    "import re\n",
    "from sklearn.feature_extraction.text import TfidfVectorizer\n",
    "from sklearn.metrics.pairwise import cosine_similarity\n",
    "from multiprocessing import Pool\n",
    "from numba import cuda\n",
    "import gzip"
   ]
  },
  {
   "cell_type": "code",
   "execution_count": 7,
   "metadata": {},
   "outputs": [
    {
     "name": "stdout",
     "output_type": "stream",
     "text": [
      "['Intel(R) Arc(TM) Graphics', 'Intel(R) Core(TM) Ultra 7 155H']\n"
     ]
    }
   ],
   "source": [
    "import pyopencl as cl\n",
    "print([device.name for platform in cl.get_platforms() for device in platform.get_devices()])"
   ]
  },
  {
   "cell_type": "code",
   "execution_count": 8,
   "metadata": {},
   "outputs": [
    {
     "name": "stdout",
     "output_type": "stream",
     "text": [
      "Platform: Intel(R) OpenCL Graphics\n",
      "Device: Intel(R) Arc(TM) Graphics\n",
      "Type: ALL | GPU\n",
      "Platform: Intel(R) OpenCL\n",
      "Device: Intel(R) Core(TM) Ultra 7 155H\n",
      "Type: ALL | CPU\n"
     ]
    }
   ],
   "source": [
    "import pyopencl as cl\n",
    "\n",
    "platforms = cl.get_platforms()\n",
    "for platform in platforms:\n",
    "    devices = platform.get_devices()\n",
    "    for device in devices:\n",
    "        print(\"Platform:\", platform.name)\n",
    "        print(\"Device:\", device.name)\n",
    "        print(\"Type:\", cl.device_type.to_string(device.type))"
   ]
  },
  {
   "cell_type": "code",
   "execution_count": 12,
   "metadata": {},
   "outputs": [],
   "source": [
    "# Function to parse each line of the file\n",
    "def parse_line(line):\n",
    "    data = json.loads(line)\n",
    "    return {\n",
    "        \"book_id\": data.get(\"book_id\"),\n",
    "        \"title\": data.get(\"title\"),\n",
    "        \"rating\": data.get(\"ratings_count\"),\n",
    "        \"url\": data.get(\"url\"),\n",
    "        \"image_url\": data.get(\"image_url\"),\n",
    "        \"average_rating\": data.get(\"average_rating\"),\n",
    "    }\n",
    "\n",
    "\n",
    "# Function to process a chunk of lines\n",
    "def process_chunk(chunk):\n",
    "    return [parse_line(line) for line in chunk if parse_line(line) is not None]\n",
    "\n",
    "# Read and process the JSON file in chunks for efficiency\n",
    "def load_data_in_chunks(file_path, chunk_size=100000):\n",
    "    books = []\n",
    "    with gzip.open(file_path, 'rt', encoding='utf-8') as f:\n",
    "        pool = Pool()  # Use multiprocessing for parsing\n",
    "        while True:\n",
    "            chunk = list(f.readlines(chunk_size))\n",
    "            if not chunk:\n",
    "                break\n",
    "            books.extend(pool.map(process_chunk, [chunk]))\n",
    "    pool.close()\n",
    "    pool.join()\n",
    "    return [item for sublist in books for item in sublist]"
   ]
  },
  {
   "cell_type": "code",
   "execution_count": null,
   "metadata": {},
   "outputs": [],
   "source": [
    "# # Load and preprocess the dataset\n",
    "# file_path = 'goodreads_books.json.gz'\n",
    "# books = load_data_in_chunks(file_path)"
   ]
  },
  {
   "cell_type": "code",
   "execution_count": 13,
   "metadata": {},
   "outputs": [],
   "source": [
    "books = []\n",
    "with gzip.open('goodreads_books.json.gz', 'r') as f:\n",
    "    for line in f:\n",
    "        field = parse_line(line)\n",
    "        try:\n",
    "            rating = int(field[\"rating\"])\n",
    "            \n",
    "        except ValueError:\n",
    "            continue\n",
    "        if rating > 15:\n",
    "            books.append(field)"
   ]
  },
  {
   "cell_type": "code",
   "execution_count": 14,
   "metadata": {},
   "outputs": [],
   "source": [
    "# Create a DataFrame\n",
    "titles = pd.DataFrame(books)"
   ]
  },
  {
   "cell_type": "code",
   "execution_count": 15,
   "metadata": {},
   "outputs": [],
   "source": [
    "# Convert numerical columns to numeric types\n",
    "titles['rating'] = pd.to_numeric(titles['rating'], errors='coerce')\n",
    "titles['average_rating'] = pd.to_numeric(titles['average_rating'], errors='coerce')"
   ]
  },
  {
   "cell_type": "code",
   "execution_count": 16,
   "metadata": {},
   "outputs": [
    {
     "name": "stderr",
     "output_type": "stream",
     "text": [
      "<>:7: SyntaxWarning: invalid escape sequence '\\s'\n",
      "<>:7: SyntaxWarning: invalid escape sequence '\\s'\n",
      "C:\\Users\\Abdul\\AppData\\Local\\Temp\\ipykernel_19952\\3657185197.py:7: SyntaxWarning: invalid escape sequence '\\s'\n",
      "  .str.replace('\\s+', ' ', regex=True)\n"
     ]
    }
   ],
   "source": [
    "# Clean and preprocess the 'title' column\n",
    "titles['edit_title'] = (\n",
    "    titles['title']\n",
    "    .str.replace('[^a-zA-Z0-9 ]', '', regex=True)\n",
    "    .str.lower()\n",
    "    .str.strip()\n",
    "    .str.replace('\\s+', ' ', regex=True)\n",
    ")"
   ]
  },
  {
   "cell_type": "code",
   "execution_count": 17,
   "metadata": {},
   "outputs": [],
   "source": [
    "# Drop rows with missing or invalid values\n",
    "titles.dropna(inplace=True)"
   ]
  },
  {
   "cell_type": "code",
   "execution_count": 18,
   "metadata": {},
   "outputs": [
    {
     "data": {
      "text/plain": [
       "<Axes: >"
      ]
     },
     "execution_count": 18,
     "metadata": {},
     "output_type": "execute_result"
    },
    {
     "data": {
      "image/png": "[encoded data removed]",
      "text/plain": [
       "<Figure size 640x480 with 1 Axes>"
      ]
     },
     "metadata": {},
     "output_type": "display_data"
    }
   ],
   "source": [
    "# Visualize missing values\n",
    "sns.heatmap(titles.isnull(), yticklabels=False, cbar=False, cmap='viridis')"
   ]
  },
  {
   "cell_type": "code",
   "execution_count": 26,
   "metadata": {},
   "outputs": [],
   "source": [
    "# Move TF-IDF vectorization to CPU using Numba (assuming we can't use CuPy on Intel GPU)\n",
    "vector = TfidfVectorizer()\n",
    "tfidf = vector.fit_transform(titles['edit_title'])"
   ]
  },
  {
   "cell_type": "code",
   "execution_count": 27,
   "metadata": {},
   "outputs": [],
   "source": [
    "# Function to make the URLs clickable\n",
    "def make_clickable(val):\n",
    "    return f'<a target=\"_blank\" href=\"{val}\">click</a>'\n",
    "\n",
    "# Function to display images\n",
    "def show_image(val):\n",
    "    return f'<img src=\"{val}\" width=\"100\" height=\"100\">'\n",
    "\n",
    "# Function to search for books (CPU version)\n",
    "def search(query):\n",
    "    query = re.sub(\"[^a-zA-Z0-9 ]\", \"\", query.lower())\n",
    "    query_vector = vector.transform([query]).toarray()  # Convert query to vector\n",
    "\n",
    "    # Use CPU-based cosine similarity\n",
    "    similarity = cosine_similarity(query_vector, tfidf)\n",
    "\n",
    "    # Get top 10 most similar books\n",
    "    indices = np.argpartition(similarity.flatten(), -10)[-10:]\n",
    "    results = titles.iloc[indices].copy()\n",
    "    results.sort_values('rating', ascending=False, inplace=True)\n",
    "\n",
    "    return results.head(10).style.format({'url': make_clickable, 'image_url': show_image})"
   ]
  },
  {
   "cell_type": "code",
   "execution_count": 31,
   "metadata": {},
   "outputs": [
    {
     "data": {
      "text/html": [
       "<style type=\"text/css\">\n",
       "</style>\n",
       "<table id=\"T_9398c\">\n",
       "  <thead>\n",
       "    <tr>\n",
       "      <th class=\"blank level0\" >&nbsp;</th>\n",
       "      <th id=\"T_9398c_level0_col0\" class=\"col_heading level0 col0\" >book_id</th>\n",
       "      <th id=\"T_9398c_level0_col1\" class=\"col_heading level0 col1\" >title</th>\n",
       "      <th id=\"T_9398c_level0_col2\" class=\"col_heading level0 col2\" >rating</th>\n",
       "      <th id=\"T_9398c_level0_col3\" class=\"col_heading level0 col3\" >url</th>\n",
       "      <th id=\"T_9398c_level0_col4\" class=\"col_heading level0 col4\" >image_url</th>\n",
       "      <th id=\"T_9398c_level0_col5\" class=\"col_heading level0 col5\" >average_rating</th>\n",
       "      <th id=\"T_9398c_level0_col6\" class=\"col_heading level0 col6\" >edit_title</th>\n",
       "    </tr>\n",
       "  </thead>\n",
       "  <tbody>\n",
       "    <tr>\n",
       "      <th id=\"T_9398c_level0_row0\" class=\"row_heading level0 row0\" >324</th>\n",
       "      <td id=\"T_9398c_row0_col0\" class=\"data row0 col0\" >54270</td>\n",
       "      <td id=\"T_9398c_row0_col1\" class=\"data row0 col1\" >Mein Kampf</td>\n",
       "      <td id=\"T_9398c_row0_col2\" class=\"data row0 col2\" >16837</td>\n",
       "      <td id=\"T_9398c_row0_col3\" class=\"data row0 col3\" ><a target=\"_blank\" href=\"https://www.goodreads.com/book/show/54270.Mein_Kampf\">click</a></td>\n",
       "      <td id=\"T_9398c_row0_col4\" class=\"data row0 col4\" ><img src=\"https://images.gr-assets.com/books/1395618385m/54270.jpg\" width=\"100\" height=\"100\"></td>\n",
       "      <td id=\"T_9398c_row0_col5\" class=\"data row0 col5\" >3.130000</td>\n",
       "      <td id=\"T_9398c_row0_col6\" class=\"data row0 col6\" >mein kampf</td>\n",
       "    </tr>\n",
       "    <tr>\n",
       "      <th id=\"T_9398c_level0_row1\" class=\"row_heading level0 row1\" >1219923</th>\n",
       "      <td id=\"T_9398c_row1_col0\" class=\"data row1 col0\" >741235</td>\n",
       "      <td id=\"T_9398c_row1_col1\" class=\"data row1 col1\" >Mein Kampf</td>\n",
       "      <td id=\"T_9398c_row1_col2\" class=\"data row1 col2\" >492</td>\n",
       "      <td id=\"T_9398c_row1_col3\" class=\"data row1 col3\" ><a target=\"_blank\" href=\"https://www.goodreads.com/book/show/741235.Mein_Kampf\">click</a></td>\n",
       "      <td id=\"T_9398c_row1_col4\" class=\"data row1 col4\" ><img src=\"https://images.gr-assets.com/books/1363985501m/741235.jpg\" width=\"100\" height=\"100\"></td>\n",
       "      <td id=\"T_9398c_row1_col5\" class=\"data row1 col5\" >3.130000</td>\n",
       "      <td id=\"T_9398c_row1_col6\" class=\"data row1 col6\" >mein kampf</td>\n",
       "    </tr>\n",
       "    <tr>\n",
       "      <th id=\"T_9398c_level0_row2\" class=\"row_heading level0 row2\" >603175</th>\n",
       "      <td id=\"T_9398c_row2_col0\" class=\"data row2 col0\" >642623</td>\n",
       "      <td id=\"T_9398c_row2_col1\" class=\"data row2 col1\" >Mein Kampf</td>\n",
       "      <td id=\"T_9398c_row2_col2\" class=\"data row2 col2\" >454</td>\n",
       "      <td id=\"T_9398c_row2_col3\" class=\"data row2 col3\" ><a target=\"_blank\" href=\"https://www.goodreads.com/book/show/642623.Mein_Kampf\">click</a></td>\n",
       "      <td id=\"T_9398c_row2_col4\" class=\"data row2 col4\" ><img src=\"https://s.gr-assets.com/assets/nophoto/book/111x148-bcc042a9c91a29c1d680899eff700a03.png\" width=\"100\" height=\"100\"></td>\n",
       "      <td id=\"T_9398c_row2_col5\" class=\"data row2 col5\" >3.130000</td>\n",
       "      <td id=\"T_9398c_row2_col6\" class=\"data row2 col6\" >mein kampf</td>\n",
       "    </tr>\n",
       "    <tr>\n",
       "      <th id=\"T_9398c_level0_row3\" class=\"row_heading level0 row3\" >215294</th>\n",
       "      <td id=\"T_9398c_row3_col0\" class=\"data row3 col0\" >18890332</td>\n",
       "      <td id=\"T_9398c_row3_col1\" class=\"data row3 col1\" >Mein Kampf</td>\n",
       "      <td id=\"T_9398c_row3_col2\" class=\"data row3 col2\" >124</td>\n",
       "      <td id=\"T_9398c_row3_col3\" class=\"data row3 col3\" ><a target=\"_blank\" href=\"https://www.goodreads.com/book/show/18890332-mein-kampf\">click</a></td>\n",
       "      <td id=\"T_9398c_row3_col4\" class=\"data row3 col4\" ><img src=\"https://s.gr-assets.com/assets/nophoto/book/111x148-bcc042a9c91a29c1d680899eff700a03.png\" width=\"100\" height=\"100\"></td>\n",
       "      <td id=\"T_9398c_row3_col5\" class=\"data row3 col5\" >3.130000</td>\n",
       "      <td id=\"T_9398c_row3_col6\" class=\"data row3 col6\" >mein kampf</td>\n",
       "    </tr>\n",
       "    <tr>\n",
       "      <th id=\"T_9398c_level0_row4\" class=\"row_heading level0 row4\" >988194</th>\n",
       "      <td id=\"T_9398c_row4_col0\" class=\"data row4 col0\" >426749</td>\n",
       "      <td id=\"T_9398c_row4_col1\" class=\"data row4 col1\" >Mein Kampf</td>\n",
       "      <td id=\"T_9398c_row4_col2\" class=\"data row4 col2\" >59</td>\n",
       "      <td id=\"T_9398c_row4_col3\" class=\"data row4 col3\" ><a target=\"_blank\" href=\"https://www.goodreads.com/book/show/426749.Mein_Kampf\">click</a></td>\n",
       "      <td id=\"T_9398c_row4_col4\" class=\"data row4 col4\" ><img src=\"https://s.gr-assets.com/assets/nophoto/book/111x148-bcc042a9c91a29c1d680899eff700a03.png\" width=\"100\" height=\"100\"></td>\n",
       "      <td id=\"T_9398c_row4_col5\" class=\"data row4 col5\" >3.130000</td>\n",
       "      <td id=\"T_9398c_row4_col6\" class=\"data row4 col6\" >mein kampf</td>\n",
       "    </tr>\n",
       "    <tr>\n",
       "      <th id=\"T_9398c_level0_row5\" class=\"row_heading level0 row5\" >934488</th>\n",
       "      <td id=\"T_9398c_row5_col0\" class=\"data row5 col0\" >1239884</td>\n",
       "      <td id=\"T_9398c_row5_col1\" class=\"data row5 col1\" >Mein Kampf</td>\n",
       "      <td id=\"T_9398c_row5_col2\" class=\"data row5 col2\" >58</td>\n",
       "      <td id=\"T_9398c_row5_col3\" class=\"data row5 col3\" ><a target=\"_blank\" href=\"https://www.goodreads.com/book/show/1239884.Mein_Kampf\">click</a></td>\n",
       "      <td id=\"T_9398c_row5_col4\" class=\"data row5 col4\" ><img src=\"https://s.gr-assets.com/assets/nophoto/book/111x148-bcc042a9c91a29c1d680899eff700a03.png\" width=\"100\" height=\"100\"></td>\n",
       "      <td id=\"T_9398c_row5_col5\" class=\"data row5 col5\" >3.130000</td>\n",
       "      <td id=\"T_9398c_row5_col6\" class=\"data row5 col6\" >mein kampf</td>\n",
       "    </tr>\n",
       "    <tr>\n",
       "      <th id=\"T_9398c_level0_row6\" class=\"row_heading level0 row6\" >62630</th>\n",
       "      <td id=\"T_9398c_row6_col0\" class=\"data row6 col0\" >19017887</td>\n",
       "      <td id=\"T_9398c_row6_col1\" class=\"data row6 col1\" >Mein Kampf</td>\n",
       "      <td id=\"T_9398c_row6_col2\" class=\"data row6 col2\" >35</td>\n",
       "      <td id=\"T_9398c_row6_col3\" class=\"data row6 col3\" ><a target=\"_blank\" href=\"https://www.goodreads.com/book/show/19017887-mein-kampf\">click</a></td>\n",
       "      <td id=\"T_9398c_row6_col4\" class=\"data row6 col4\" ><img src=\"https://s.gr-assets.com/assets/nophoto/book/111x148-bcc042a9c91a29c1d680899eff700a03.png\" width=\"100\" height=\"100\"></td>\n",
       "      <td id=\"T_9398c_row6_col5\" class=\"data row6 col5\" >3.130000</td>\n",
       "      <td id=\"T_9398c_row6_col6\" class=\"data row6 col6\" >mein kampf</td>\n",
       "    </tr>\n",
       "    <tr>\n",
       "      <th id=\"T_9398c_level0_row7\" class=\"row_heading level0 row7\" >84317</th>\n",
       "      <td id=\"T_9398c_row7_col0\" class=\"data row7 col0\" >3427872</td>\n",
       "      <td id=\"T_9398c_row7_col1\" class=\"data row7 col1\" >Mein Kampf</td>\n",
       "      <td id=\"T_9398c_row7_col2\" class=\"data row7 col2\" >27</td>\n",
       "      <td id=\"T_9398c_row7_col3\" class=\"data row7 col3\" ><a target=\"_blank\" href=\"https://www.goodreads.com/book/show/3427872-mein-kampf\">click</a></td>\n",
       "      <td id=\"T_9398c_row7_col4\" class=\"data row7 col4\" ><img src=\"https://s.gr-assets.com/assets/nophoto/book/111x148-bcc042a9c91a29c1d680899eff700a03.png\" width=\"100\" height=\"100\"></td>\n",
       "      <td id=\"T_9398c_row7_col5\" class=\"data row7 col5\" >3.130000</td>\n",
       "      <td id=\"T_9398c_row7_col6\" class=\"data row7 col6\" >mein kampf</td>\n",
       "    </tr>\n",
       "    <tr>\n",
       "      <th id=\"T_9398c_level0_row8\" class=\"row_heading level0 row8\" >261121</th>\n",
       "      <td id=\"T_9398c_row8_col0\" class=\"data row8 col0\" >7296820</td>\n",
       "      <td id=\"T_9398c_row8_col1\" class=\"data row8 col1\" >Mein Kampf</td>\n",
       "      <td id=\"T_9398c_row8_col2\" class=\"data row8 col2\" >23</td>\n",
       "      <td id=\"T_9398c_row8_col3\" class=\"data row8 col3\" ><a target=\"_blank\" href=\"https://www.goodreads.com/book/show/7296820-mein-kampf\">click</a></td>\n",
       "      <td id=\"T_9398c_row8_col4\" class=\"data row8 col4\" ><img src=\"https://s.gr-assets.com/assets/nophoto/book/111x148-bcc042a9c91a29c1d680899eff700a03.png\" width=\"100\" height=\"100\"></td>\n",
       "      <td id=\"T_9398c_row8_col5\" class=\"data row8 col5\" >3.130000</td>\n",
       "      <td id=\"T_9398c_row8_col6\" class=\"data row8 col6\" >mein kampf</td>\n",
       "    </tr>\n",
       "    <tr>\n",
       "      <th id=\"T_9398c_level0_row9\" class=\"row_heading level0 row9\" >1109638</th>\n",
       "      <td id=\"T_9398c_row9_col0\" class=\"data row9 col0\" >8071859</td>\n",
       "      <td id=\"T_9398c_row9_col1\" class=\"data row9 col1\" >Mein Kampf</td>\n",
       "      <td id=\"T_9398c_row9_col2\" class=\"data row9 col2\" >22</td>\n",
       "      <td id=\"T_9398c_row9_col3\" class=\"data row9 col3\" ><a target=\"_blank\" href=\"https://www.goodreads.com/book/show/8071859-mein-kampf\">click</a></td>\n",
       "      <td id=\"T_9398c_row9_col4\" class=\"data row9 col4\" ><img src=\"https://images.gr-assets.com/books/1349080224m/8071859.jpg\" width=\"100\" height=\"100\"></td>\n",
       "      <td id=\"T_9398c_row9_col5\" class=\"data row9 col5\" >3.140000</td>\n",
       "      <td id=\"T_9398c_row9_col6\" class=\"data row9 col6\" >mein kampf</td>\n",
       "    </tr>\n",
       "  </tbody>\n",
       "</table>\n"
      ],
      "text/plain": [
       "<pandas.io.formats.style.Styler at 0x231b4f3ee10>"
      ]
     },
     "execution_count": 31,
     "metadata": {},
     "output_type": "execute_result"
    }
   ],
   "source": [
    "# Example search query\n",
    "search('Mein Kampf')"
   ]
  },
  {
   "cell_type": "code",
   "execution_count": null,
   "metadata": {},
   "outputs": [],
   "source": []
  }
 ],
 "metadata": {
  "kernelspec": {
   "display_name": "base",
   "language": "python",
   "name": "python3"
  },
  "language_info": {
   "codemirror_mode": {
    "name": "ipython",
    "version": 3
   },
   "file_extension": ".py",
   "mimetype": "text/x-python",
   "name": "python",
   "nbconvert_exporter": "python",
   "pygments_lexer": "ipython3",
   "version": "3.12.3"
  }
 },
 "nbformat": 4,
 "nbformat_minor": 2
}
