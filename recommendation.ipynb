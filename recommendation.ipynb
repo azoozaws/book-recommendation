{
 "cells": [
  {
   "cell_type": "code",
   "execution_count": 232,
   "metadata": {},
   "outputs": [],
   "source": [
    "# my favorite books\n",
    "liked_books = [\"69571\", \"2249\", \"4894\", \"1145278\", \"54270\"]"
   ]
  },
  {
   "cell_type": "code",
   "execution_count": 233,
   "metadata": {},
   "outputs": [
    {
     "name": "stdout",
     "output_type": "stream",
     "text": [
      "book_id_csv,book_id\n",
      "0,34684622\n",
      "1,34536488\n",
      "2,34017076\n",
      "3,71730\n",
      "4,30422361\n",
      "5,33503613\n",
      "6,33517540\n",
      "7,34467031\n",
      "8,6383669\n"
     ]
    }
   ],
   "source": [
    "# show the first 5 lines of the book_id_map.csv file\n",
    "!head book_id_map.csv"
   ]
  },
  {
   "cell_type": "code",
   "execution_count": 234,
   "metadata": {},
   "outputs": [],
   "source": [
    "import pandas as pd\n",
    "book_mapping = pd.read_csv('book_id_map.csv')"
   ]
  },
  {
   "cell_type": "code",
   "execution_count": 235,
   "metadata": {},
   "outputs": [
    {
     "data": {
      "text/html": [
       "<div>\n",
       "<style scoped>\n",
       "    .dataframe tbody tr th:only-of-type {\n",
       "        vertical-align: middle;\n",
       "    }\n",
       "\n",
       "    .dataframe tbody tr th {\n",
       "        vertical-align: top;\n",
       "    }\n",
       "\n",
       "    .dataframe thead th {\n",
       "        text-align: right;\n",
       "    }\n",
       "</style>\n",
       "<table border=\"1\" class=\"dataframe\">\n",
       "  <thead>\n",
       "    <tr style=\"text-align: right;\">\n",
       "      <th></th>\n",
       "      <th>book_id_csv</th>\n",
       "      <th>book_id</th>\n",
       "    </tr>\n",
       "  </thead>\n",
       "  <tbody>\n",
       "    <tr>\n",
       "      <th>0</th>\n",
       "      <td>0</td>\n",
       "      <td>34684622</td>\n",
       "    </tr>\n",
       "    <tr>\n",
       "      <th>1</th>\n",
       "      <td>1</td>\n",
       "      <td>34536488</td>\n",
       "    </tr>\n",
       "    <tr>\n",
       "      <th>2</th>\n",
       "      <td>2</td>\n",
       "      <td>34017076</td>\n",
       "    </tr>\n",
       "    <tr>\n",
       "      <th>3</th>\n",
       "      <td>3</td>\n",
       "      <td>71730</td>\n",
       "    </tr>\n",
       "    <tr>\n",
       "      <th>4</th>\n",
       "      <td>4</td>\n",
       "      <td>30422361</td>\n",
       "    </tr>\n",
       "  </tbody>\n",
       "</table>\n",
       "</div>"
      ],
      "text/plain": [
       "   book_id_csv   book_id\n",
       "0            0  34684622\n",
       "1            1  34536488\n",
       "2            2  34017076\n",
       "3            3     71730\n",
       "4            4  30422361"
      ]
     },
     "execution_count": 235,
     "metadata": {},
     "output_type": "execute_result"
    }
   ],
   "source": [
    "book_mapping.head()"
   ]
  },
  {
   "cell_type": "code",
   "execution_count": 236,
   "metadata": {},
   "outputs": [
    {
     "name": "stdout",
     "output_type": "stream",
     "text": [
      "<class 'pandas.core.frame.DataFrame'>\n",
      "RangeIndex: 2360650 entries, 0 to 2360649\n",
      "Data columns (total 2 columns):\n",
      " #   Column       Dtype\n",
      "---  ------       -----\n",
      " 0   book_id_csv  int64\n",
      " 1   book_id      int64\n",
      "dtypes: int64(2)\n",
      "memory usage: 36.0 MB\n"
     ]
    }
   ],
   "source": [
    "book_mapping.info()"
   ]
  },
  {
   "cell_type": "code",
   "execution_count": 237,
   "metadata": {},
   "outputs": [],
   "source": [
    "book_mapping['book_id'] = book_mapping['book_id'].astype(str)\n",
    "book_mapping['book_id_csv'] = book_mapping['book_id_csv'].astype(str)"
   ]
  },
  {
   "cell_type": "code",
   "execution_count": 238,
   "metadata": {},
   "outputs": [],
   "source": [
    "# convert the book_mapping dataframe to a dictionary\n",
    "book_mapping = dict(zip(book_mapping['book_id_csv'], book_mapping['book_id']))"
   ]
  },
  {
   "cell_type": "code",
   "execution_count": 239,
   "metadata": {},
   "outputs": [
    {
     "data": {
      "text/plain": [
       "'34017076'"
      ]
     },
     "execution_count": 239,
     "metadata": {},
     "output_type": "execute_result"
    }
   ],
   "source": [
    "book_mapping[\"2\"]"
   ]
  },
  {
   "cell_type": "code",
   "execution_count": 240,
   "metadata": {},
   "outputs": [
    {
     "data": {
      "text/plain": [
       "str"
      ]
     },
     "execution_count": 240,
     "metadata": {},
     "output_type": "execute_result"
    }
   ],
   "source": [
    "type(book_mapping[\"2\"])"
   ]
  },
  {
   "cell_type": "code",
   "execution_count": 241,
   "metadata": {},
   "outputs": [
    {
     "data": {
      "text/plain": [
       "2360650"
      ]
     },
     "execution_count": 241,
     "metadata": {},
     "output_type": "execute_result"
    }
   ],
   "source": [
    "# show the length of the book_mapping dictionary\n",
    "len(book_mapping)"
   ]
  },
  {
   "cell_type": "code",
   "execution_count": 242,
   "metadata": {},
   "outputs": [
    {
     "name": "stdout",
     "output_type": "stream",
     "text": [
      "228648343 goodreads_interactions.csv\n"
     ]
    }
   ],
   "source": [
    "# number of lines in the goodreads_interactions.csv file \n",
    "!wc -l goodreads_interactions.csv"
   ]
  },
  {
   "cell_type": "code",
   "execution_count": 243,
   "metadata": {},
   "outputs": [
    {
     "name": "stdout",
     "output_type": "stream",
     "text": [
      "-rw-r--r-- 1 Abdul 197609 4.1G Dec 27 17:18 goodreads_interactions.csv\n"
     ]
    }
   ],
   "source": [
    "# the size of the goodreads_interactions.csv file\n",
    "!ls -lh goodreads_interactions.csv"
   ]
  },
  {
   "cell_type": "code",
   "execution_count": 244,
   "metadata": {},
   "outputs": [],
   "source": [
    "# find the similarity users who liked the same books\n",
    "overlap_users = set()\n",
    "with open('goodreads_interactions.csv', 'r') as file:\n",
    "    for line in file:\n",
    "        user_id, csv_id, _, rating, _ = line.split(',')\n",
    "        \n",
    "        if user_id in overlap_users:\n",
    "            continue\n",
    "        try:\n",
    "            rating = int(rating)\n",
    "        except ValueError:\n",
    "                continue\n",
    "        book_id = book_mapping.get(csv_id)\n",
    "        if book_id in liked_books and rating >= 4:\n",
    "            overlap_users.add(user_id)\n",
    "        "
   ]
  },
  {
   "cell_type": "code",
   "execution_count": 245,
   "metadata": {},
   "outputs": [
    {
     "data": {
      "text/plain": [
       "13681"
      ]
     },
     "execution_count": 245,
     "metadata": {},
     "output_type": "execute_result"
    }
   ],
   "source": [
    "len(overlap_users)"
   ]
  },
  {
   "cell_type": "code",
   "execution_count": 246,
   "metadata": {},
   "outputs": [],
   "source": [
    "# find the books that the similar users liked\n",
    "rec_lines = []\n",
    "with open('goodreads_interactions.csv', 'r') as file:\n",
    "    for line in file:\n",
    "        user_id, csv_id, _, rating, _ = line.split(',')\n",
    "        \n",
    "        if user_id in overlap_users:\n",
    "            book_id = book_mapping.get(csv_id)\n",
    "            rec_lines.append([user_id, book_id, rating])"
   ]
  },
  {
   "cell_type": "code",
   "execution_count": 247,
   "metadata": {},
   "outputs": [
    {
     "data": {
      "text/plain": [
       "4593126"
      ]
     },
     "execution_count": 247,
     "metadata": {},
     "output_type": "execute_result"
    }
   ],
   "source": [
    "len(rec_lines)"
   ]
  },
  {
   "cell_type": "code",
   "execution_count": 248,
   "metadata": {},
   "outputs": [],
   "source": [
    "recs = pd.DataFrame(rec_lines, columns=['user_id', 'book_id', 'rating'])"
   ]
  },
  {
   "cell_type": "code",
   "execution_count": 249,
   "metadata": {},
   "outputs": [],
   "source": [
    "recs['book_id'] = recs['book_id'].astype(str)"
   ]
  },
  {
   "cell_type": "code",
   "execution_count": 250,
   "metadata": {},
   "outputs": [],
   "source": [
    "top_recs = recs['book_id'].value_counts().head(10)\n",
    "top_recs = top_recs.index.values"
   ]
  },
  {
   "cell_type": "code",
   "execution_count": 287,
   "metadata": {},
   "outputs": [],
   "source": [
    "books_titles = pd.read_csv(\"D:\\\\Data_Science\\\\My projects in Data Science and ML\\\\extra files for book recommendation\\\\titles.csv\")\n",
    "books_titles['book_id'] = books_titles['book_id'].astype(str)"
   ]
  },
  {
   "cell_type": "code",
   "execution_count": 288,
   "metadata": {},
   "outputs": [
    {
     "data": {
      "text/html": [
       "<div>\n",
       "<style scoped>\n",
       "    .dataframe tbody tr th:only-of-type {\n",
       "        vertical-align: middle;\n",
       "    }\n",
       "\n",
       "    .dataframe tbody tr th {\n",
       "        vertical-align: top;\n",
       "    }\n",
       "\n",
       "    .dataframe thead th {\n",
       "        text-align: right;\n",
       "    }\n",
       "</style>\n",
       "<table border=\"1\" class=\"dataframe\">\n",
       "  <thead>\n",
       "    <tr style=\"text-align: right;\">\n",
       "      <th></th>\n",
       "      <th>book_id</th>\n",
       "      <th>title</th>\n",
       "      <th>rating</th>\n",
       "      <th>url</th>\n",
       "      <th>image_url</th>\n",
       "      <th>average_rating</th>\n",
       "      <th>edit_title</th>\n",
       "    </tr>\n",
       "  </thead>\n",
       "  <tbody>\n",
       "    <tr>\n",
       "      <th>0</th>\n",
       "      <td>7327624</td>\n",
       "      <td>The Unschooled Wizard (Sun Wolf and Starhawk, ...</td>\n",
       "      <td>140</td>\n",
       "      <td>https://www.goodreads.com/book/show/7327624-th...</td>\n",
       "      <td>https://images.gr-assets.com/books/1304100136m...</td>\n",
       "      <td>4.03</td>\n",
       "      <td>the unschooled wizard sun wolf and starhawk 12</td>\n",
       "    </tr>\n",
       "    <tr>\n",
       "      <th>1</th>\n",
       "      <td>6066819</td>\n",
       "      <td>Best Friends Forever</td>\n",
       "      <td>51184</td>\n",
       "      <td>https://www.goodreads.com/book/show/6066819-be...</td>\n",
       "      <td>https://s.gr-assets.com/assets/nophoto/book/11...</td>\n",
       "      <td>3.49</td>\n",
       "      <td>best friends forever</td>\n",
       "    </tr>\n",
       "    <tr>\n",
       "      <th>2</th>\n",
       "      <td>287141</td>\n",
       "      <td>The Aeneid for Boys and Girls</td>\n",
       "      <td>46</td>\n",
       "      <td>https://www.goodreads.com/book/show/287141.The...</td>\n",
       "      <td>https://s.gr-assets.com/assets/nophoto/book/11...</td>\n",
       "      <td>4.13</td>\n",
       "      <td>the aeneid for boys and girls</td>\n",
       "    </tr>\n",
       "    <tr>\n",
       "      <th>3</th>\n",
       "      <td>6066812</td>\n",
       "      <td>All's Fairy in Love and War (Avalon: Web of Ma...</td>\n",
       "      <td>98</td>\n",
       "      <td>https://www.goodreads.com/book/show/6066812-al...</td>\n",
       "      <td>https://images.gr-assets.com/books/1316637798m...</td>\n",
       "      <td>4.22</td>\n",
       "      <td>alls fairy in love and war avalon web of magic 8</td>\n",
       "    </tr>\n",
       "    <tr>\n",
       "      <th>4</th>\n",
       "      <td>287149</td>\n",
       "      <td>The Devil's Notebook</td>\n",
       "      <td>986</td>\n",
       "      <td>https://www.goodreads.com/book/show/287149.The...</td>\n",
       "      <td>https://images.gr-assets.com/books/1328768789m...</td>\n",
       "      <td>3.81</td>\n",
       "      <td>the devils notebook</td>\n",
       "    </tr>\n",
       "  </tbody>\n",
       "</table>\n",
       "</div>"
      ],
      "text/plain": [
       "   book_id                                              title  rating  \\\n",
       "0  7327624  The Unschooled Wizard (Sun Wolf and Starhawk, ...     140   \n",
       "1  6066819                               Best Friends Forever   51184   \n",
       "2   287141                      The Aeneid for Boys and Girls      46   \n",
       "3  6066812  All's Fairy in Love and War (Avalon: Web of Ma...      98   \n",
       "4   287149                               The Devil's Notebook     986   \n",
       "\n",
       "                                                 url  \\\n",
       "0  https://www.goodreads.com/book/show/7327624-th...   \n",
       "1  https://www.goodreads.com/book/show/6066819-be...   \n",
       "2  https://www.goodreads.com/book/show/287141.The...   \n",
       "3  https://www.goodreads.com/book/show/6066812-al...   \n",
       "4  https://www.goodreads.com/book/show/287149.The...   \n",
       "\n",
       "                                           image_url  average_rating  \\\n",
       "0  https://images.gr-assets.com/books/1304100136m...            4.03   \n",
       "1  https://s.gr-assets.com/assets/nophoto/book/11...            3.49   \n",
       "2  https://s.gr-assets.com/assets/nophoto/book/11...            4.13   \n",
       "3  https://images.gr-assets.com/books/1316637798m...            4.22   \n",
       "4  https://images.gr-assets.com/books/1328768789m...            3.81   \n",
       "\n",
       "                                         edit_title  \n",
       "0    the unschooled wizard sun wolf and starhawk 12  \n",
       "1                              best friends forever  \n",
       "2                     the aeneid for boys and girls  \n",
       "3  alls fairy in love and war avalon web of magic 8  \n",
       "4                               the devils notebook  "
      ]
     },
     "execution_count": 288,
     "metadata": {},
     "output_type": "execute_result"
    }
   ],
   "source": [
    "books_titles.head()"
   ]
  },
  {
   "cell_type": "code",
   "execution_count": 289,
   "metadata": {},
   "outputs": [
    {
     "data": {
      "text/html": [
       "<div>\n",
       "<style scoped>\n",
       "    .dataframe tbody tr th:only-of-type {\n",
       "        vertical-align: middle;\n",
       "    }\n",
       "\n",
       "    .dataframe tbody tr th {\n",
       "        vertical-align: top;\n",
       "    }\n",
       "\n",
       "    .dataframe thead th {\n",
       "        text-align: right;\n",
       "    }\n",
       "</style>\n",
       "<table border=\"1\" class=\"dataframe\">\n",
       "  <thead>\n",
       "    <tr style=\"text-align: right;\">\n",
       "      <th></th>\n",
       "      <th>book_id</th>\n",
       "      <th>title</th>\n",
       "      <th>rating</th>\n",
       "      <th>url</th>\n",
       "      <th>image_url</th>\n",
       "      <th>average_rating</th>\n",
       "      <th>edit_title</th>\n",
       "    </tr>\n",
       "  </thead>\n",
       "  <tbody>\n",
       "    <tr>\n",
       "      <th>284473</th>\n",
       "      <td>2767052</td>\n",
       "      <td>The Hunger Games (The Hunger Games, #1)</td>\n",
       "      <td>4899965</td>\n",
       "      <td>https://www.goodreads.com/book/show/2767052-th...</td>\n",
       "      <td>https://images.gr-assets.com/books/1447303603m...</td>\n",
       "      <td>4.34</td>\n",
       "      <td>the hunger games the hunger games 1</td>\n",
       "    </tr>\n",
       "    <tr>\n",
       "      <th>615314</th>\n",
       "      <td>5470</td>\n",
       "      <td>1984</td>\n",
       "      <td>2023937</td>\n",
       "      <td>https://www.goodreads.com/book/show/5470.1984</td>\n",
       "      <td>https://images.gr-assets.com/books/1348990566m...</td>\n",
       "      <td>4.14</td>\n",
       "      <td>1984</td>\n",
       "    </tr>\n",
       "    <tr>\n",
       "      <th>675722</th>\n",
       "      <td>36072</td>\n",
       "      <td>The 7 Habits of Highly Effective People: Power...</td>\n",
       "      <td>330726</td>\n",
       "      <td>https://www.goodreads.com/book/show/36072.The_...</td>\n",
       "      <td>https://images.gr-assets.com/books/1421842784m...</td>\n",
       "      <td>4.05</td>\n",
       "      <td>the 7 habits of highly effective people powerf...</td>\n",
       "    </tr>\n",
       "    <tr>\n",
       "      <th>784186</th>\n",
       "      <td>69571</td>\n",
       "      <td>Rich Dad, Poor Dad</td>\n",
       "      <td>164543</td>\n",
       "      <td>https://www.goodreads.com/book/show/69571.Rich...</td>\n",
       "      <td>https://s.gr-assets.com/assets/nophoto/book/11...</td>\n",
       "      <td>3.96</td>\n",
       "      <td>rich dad poor dad</td>\n",
       "    </tr>\n",
       "    <tr>\n",
       "      <th>790927</th>\n",
       "      <td>2657</td>\n",
       "      <td>To Kill a Mockingbird</td>\n",
       "      <td>3255518</td>\n",
       "      <td>https://www.goodreads.com/book/show/2657.To_Ki...</td>\n",
       "      <td>https://images.gr-assets.com/books/1361975680m...</td>\n",
       "      <td>4.26</td>\n",
       "      <td>to kill a mockingbird</td>\n",
       "    </tr>\n",
       "    <tr>\n",
       "      <th>838972</th>\n",
       "      <td>4865</td>\n",
       "      <td>How to Win Friends and Influence People</td>\n",
       "      <td>296690</td>\n",
       "      <td>https://www.goodreads.com/book/show/4865.How_t...</td>\n",
       "      <td>https://images.gr-assets.com/books/1442726934m...</td>\n",
       "      <td>4.14</td>\n",
       "      <td>how to win friends and influence people</td>\n",
       "    </tr>\n",
       "    <tr>\n",
       "      <th>876816</th>\n",
       "      <td>865</td>\n",
       "      <td>The Alchemist</td>\n",
       "      <td>1342863</td>\n",
       "      <td>https://www.goodreads.com/book/show/865.The_Al...</td>\n",
       "      <td>https://images.gr-assets.com/books/1483412266m...</td>\n",
       "      <td>3.82</td>\n",
       "      <td>the alchemist</td>\n",
       "    </tr>\n",
       "    <tr>\n",
       "      <th>878545</th>\n",
       "      <td>3</td>\n",
       "      <td>Harry Potter and the Sorcerer's Stone (Harry P...</td>\n",
       "      <td>4765497</td>\n",
       "      <td>https://www.goodreads.com/book/show/3.Harry_Po...</td>\n",
       "      <td>https://images.gr-assets.com/books/1474154022m...</td>\n",
       "      <td>4.45</td>\n",
       "      <td>harry potter and the sorcerers stone harry pot...</td>\n",
       "    </tr>\n",
       "    <tr>\n",
       "      <th>915463</th>\n",
       "      <td>4894</td>\n",
       "      <td>Who Moved My Cheese?</td>\n",
       "      <td>245187</td>\n",
       "      <td>https://www.goodreads.com/book/show/4894.Who_M...</td>\n",
       "      <td>https://s.gr-assets.com/assets/nophoto/book/11...</td>\n",
       "      <td>3.74</td>\n",
       "      <td>who moved my cheese</td>\n",
       "    </tr>\n",
       "    <tr>\n",
       "      <th>1223254</th>\n",
       "      <td>968</td>\n",
       "      <td>The Da Vinci Code (Robert Langdon, #2)</td>\n",
       "      <td>1465770</td>\n",
       "      <td>https://www.goodreads.com/book/show/968.The_Da...</td>\n",
       "      <td>https://images.gr-assets.com/books/1303252999m...</td>\n",
       "      <td>3.79</td>\n",
       "      <td>the da vinci code robert langdon 2</td>\n",
       "    </tr>\n",
       "  </tbody>\n",
       "</table>\n",
       "</div>"
      ],
      "text/plain": [
       "         book_id                                              title   rating  \\\n",
       "284473   2767052            The Hunger Games (The Hunger Games, #1)  4899965   \n",
       "615314      5470                                               1984  2023937   \n",
       "675722     36072  The 7 Habits of Highly Effective People: Power...   330726   \n",
       "784186     69571                                 Rich Dad, Poor Dad   164543   \n",
       "790927      2657                              To Kill a Mockingbird  3255518   \n",
       "838972      4865            How to Win Friends and Influence People   296690   \n",
       "876816       865                                      The Alchemist  1342863   \n",
       "878545         3  Harry Potter and the Sorcerer's Stone (Harry P...  4765497   \n",
       "915463      4894                               Who Moved My Cheese?   245187   \n",
       "1223254      968             The Da Vinci Code (Robert Langdon, #2)  1465770   \n",
       "\n",
       "                                                       url  \\\n",
       "284473   https://www.goodreads.com/book/show/2767052-th...   \n",
       "615314       https://www.goodreads.com/book/show/5470.1984   \n",
       "675722   https://www.goodreads.com/book/show/36072.The_...   \n",
       "784186   https://www.goodreads.com/book/show/69571.Rich...   \n",
       "790927   https://www.goodreads.com/book/show/2657.To_Ki...   \n",
       "838972   https://www.goodreads.com/book/show/4865.How_t...   \n",
       "876816   https://www.goodreads.com/book/show/865.The_Al...   \n",
       "878545   https://www.goodreads.com/book/show/3.Harry_Po...   \n",
       "915463   https://www.goodreads.com/book/show/4894.Who_M...   \n",
       "1223254  https://www.goodreads.com/book/show/968.The_Da...   \n",
       "\n",
       "                                                 image_url  average_rating  \\\n",
       "284473   https://images.gr-assets.com/books/1447303603m...            4.34   \n",
       "615314   https://images.gr-assets.com/books/1348990566m...            4.14   \n",
       "675722   https://images.gr-assets.com/books/1421842784m...            4.05   \n",
       "784186   https://s.gr-assets.com/assets/nophoto/book/11...            3.96   \n",
       "790927   https://images.gr-assets.com/books/1361975680m...            4.26   \n",
       "838972   https://images.gr-assets.com/books/1442726934m...            4.14   \n",
       "876816   https://images.gr-assets.com/books/1483412266m...            3.82   \n",
       "878545   https://images.gr-assets.com/books/1474154022m...            4.45   \n",
       "915463   https://s.gr-assets.com/assets/nophoto/book/11...            3.74   \n",
       "1223254  https://images.gr-assets.com/books/1303252999m...            3.79   \n",
       "\n",
       "                                                edit_title  \n",
       "284473                 the hunger games the hunger games 1  \n",
       "615314                                                1984  \n",
       "675722   the 7 habits of highly effective people powerf...  \n",
       "784186                                   rich dad poor dad  \n",
       "790927                               to kill a mockingbird  \n",
       "838972             how to win friends and influence people  \n",
       "876816                                       the alchemist  \n",
       "878545   harry potter and the sorcerers stone harry pot...  \n",
       "915463                                 who moved my cheese  \n",
       "1223254                 the da vinci code robert langdon 2  "
      ]
     },
     "execution_count": 289,
     "metadata": {},
     "output_type": "execute_result"
    }
   ],
   "source": [
    "books_titles[books_titles[\"book_id\"].isin(top_recs)]"
   ]
  },
  {
   "cell_type": "code",
   "execution_count": 290,
   "metadata": {},
   "outputs": [],
   "source": [
    "all_recs = recs[\"book_id\"].value_counts()"
   ]
  },
  {
   "cell_type": "code",
   "execution_count": 291,
   "metadata": {},
   "outputs": [],
   "source": [
    "all_recs = all_recs.to_frame().reset_index()\n",
    "all_recs.columns = [\"book_id\", \"count\"]"
   ]
  },
  {
   "cell_type": "code",
   "execution_count": 292,
   "metadata": {},
   "outputs": [
    {
     "data": {
      "text/html": [
       "<div>\n",
       "<style scoped>\n",
       "    .dataframe tbody tr th:only-of-type {\n",
       "        vertical-align: middle;\n",
       "    }\n",
       "\n",
       "    .dataframe tbody tr th {\n",
       "        vertical-align: top;\n",
       "    }\n",
       "\n",
       "    .dataframe thead th {\n",
       "        text-align: right;\n",
       "    }\n",
       "</style>\n",
       "<table border=\"1\" class=\"dataframe\">\n",
       "  <thead>\n",
       "    <tr style=\"text-align: right;\">\n",
       "      <th></th>\n",
       "      <th>book_id</th>\n",
       "      <th>count</th>\n",
       "    </tr>\n",
       "  </thead>\n",
       "  <tbody>\n",
       "    <tr>\n",
       "      <th>0</th>\n",
       "      <td>4894</td>\n",
       "      <td>8983</td>\n",
       "    </tr>\n",
       "    <tr>\n",
       "      <th>1</th>\n",
       "      <td>69571</td>\n",
       "      <td>6543</td>\n",
       "    </tr>\n",
       "    <tr>\n",
       "      <th>2</th>\n",
       "      <td>865</td>\n",
       "      <td>6185</td>\n",
       "    </tr>\n",
       "    <tr>\n",
       "      <th>3</th>\n",
       "      <td>2657</td>\n",
       "      <td>5077</td>\n",
       "    </tr>\n",
       "    <tr>\n",
       "      <th>4</th>\n",
       "      <td>3</td>\n",
       "      <td>4880</td>\n",
       "    </tr>\n",
       "  </tbody>\n",
       "</table>\n",
       "</div>"
      ],
      "text/plain": [
       "  book_id  count\n",
       "0    4894   8983\n",
       "1   69571   6543\n",
       "2     865   6185\n",
       "3    2657   5077\n",
       "4       3   4880"
      ]
     },
     "execution_count": 292,
     "metadata": {},
     "output_type": "execute_result"
    }
   ],
   "source": [
    "all_recs.head()"
   ]
  },
  {
   "cell_type": "code",
   "execution_count": 293,
   "metadata": {},
   "outputs": [],
   "source": [
    "all_recs = all_recs.merge(books_titles, how=\"inner\", on=\"book_id\")"
   ]
  },
  {
   "cell_type": "code",
   "execution_count": 294,
   "metadata": {},
   "outputs": [
    {
     "data": {
      "text/html": [
       "<div>\n",
       "<style scoped>\n",
       "    .dataframe tbody tr th:only-of-type {\n",
       "        vertical-align: middle;\n",
       "    }\n",
       "\n",
       "    .dataframe tbody tr th {\n",
       "        vertical-align: top;\n",
       "    }\n",
       "\n",
       "    .dataframe thead th {\n",
       "        text-align: right;\n",
       "    }\n",
       "</style>\n",
       "<table border=\"1\" class=\"dataframe\">\n",
       "  <thead>\n",
       "    <tr style=\"text-align: right;\">\n",
       "      <th></th>\n",
       "      <th>book_id</th>\n",
       "      <th>count</th>\n",
       "      <th>title</th>\n",
       "      <th>rating</th>\n",
       "      <th>url</th>\n",
       "      <th>image_url</th>\n",
       "      <th>average_rating</th>\n",
       "      <th>edit_title</th>\n",
       "    </tr>\n",
       "  </thead>\n",
       "  <tbody>\n",
       "    <tr>\n",
       "      <th>0</th>\n",
       "      <td>4894</td>\n",
       "      <td>8983</td>\n",
       "      <td>Who Moved My Cheese?</td>\n",
       "      <td>245187</td>\n",
       "      <td>https://www.goodreads.com/book/show/4894.Who_M...</td>\n",
       "      <td>https://s.gr-assets.com/assets/nophoto/book/11...</td>\n",
       "      <td>3.74</td>\n",
       "      <td>who moved my cheese</td>\n",
       "    </tr>\n",
       "    <tr>\n",
       "      <th>1</th>\n",
       "      <td>69571</td>\n",
       "      <td>6543</td>\n",
       "      <td>Rich Dad, Poor Dad</td>\n",
       "      <td>164543</td>\n",
       "      <td>https://www.goodreads.com/book/show/69571.Rich...</td>\n",
       "      <td>https://s.gr-assets.com/assets/nophoto/book/11...</td>\n",
       "      <td>3.96</td>\n",
       "      <td>rich dad poor dad</td>\n",
       "    </tr>\n",
       "    <tr>\n",
       "      <th>2</th>\n",
       "      <td>865</td>\n",
       "      <td>6185</td>\n",
       "      <td>The Alchemist</td>\n",
       "      <td>1342863</td>\n",
       "      <td>https://www.goodreads.com/book/show/865.The_Al...</td>\n",
       "      <td>https://images.gr-assets.com/books/1483412266m...</td>\n",
       "      <td>3.82</td>\n",
       "      <td>the alchemist</td>\n",
       "    </tr>\n",
       "    <tr>\n",
       "      <th>3</th>\n",
       "      <td>2657</td>\n",
       "      <td>5077</td>\n",
       "      <td>To Kill a Mockingbird</td>\n",
       "      <td>3255518</td>\n",
       "      <td>https://www.goodreads.com/book/show/2657.To_Ki...</td>\n",
       "      <td>https://images.gr-assets.com/books/1361975680m...</td>\n",
       "      <td>4.26</td>\n",
       "      <td>to kill a mockingbird</td>\n",
       "    </tr>\n",
       "    <tr>\n",
       "      <th>4</th>\n",
       "      <td>3</td>\n",
       "      <td>4880</td>\n",
       "      <td>Harry Potter and the Sorcerer's Stone (Harry P...</td>\n",
       "      <td>4765497</td>\n",
       "      <td>https://www.goodreads.com/book/show/3.Harry_Po...</td>\n",
       "      <td>https://images.gr-assets.com/books/1474154022m...</td>\n",
       "      <td>4.45</td>\n",
       "      <td>harry potter and the sorcerers stone harry pot...</td>\n",
       "    </tr>\n",
       "  </tbody>\n",
       "</table>\n",
       "</div>"
      ],
      "text/plain": [
       "  book_id  count                                              title   rating  \\\n",
       "0    4894   8983                               Who Moved My Cheese?   245187   \n",
       "1   69571   6543                                 Rich Dad, Poor Dad   164543   \n",
       "2     865   6185                                      The Alchemist  1342863   \n",
       "3    2657   5077                              To Kill a Mockingbird  3255518   \n",
       "4       3   4880  Harry Potter and the Sorcerer's Stone (Harry P...  4765497   \n",
       "\n",
       "                                                 url  \\\n",
       "0  https://www.goodreads.com/book/show/4894.Who_M...   \n",
       "1  https://www.goodreads.com/book/show/69571.Rich...   \n",
       "2  https://www.goodreads.com/book/show/865.The_Al...   \n",
       "3  https://www.goodreads.com/book/show/2657.To_Ki...   \n",
       "4  https://www.goodreads.com/book/show/3.Harry_Po...   \n",
       "\n",
       "                                           image_url  average_rating  \\\n",
       "0  https://s.gr-assets.com/assets/nophoto/book/11...            3.74   \n",
       "1  https://s.gr-assets.com/assets/nophoto/book/11...            3.96   \n",
       "2  https://images.gr-assets.com/books/1483412266m...            3.82   \n",
       "3  https://images.gr-assets.com/books/1361975680m...            4.26   \n",
       "4  https://images.gr-assets.com/books/1474154022m...            4.45   \n",
       "\n",
       "                                          edit_title  \n",
       "0                                who moved my cheese  \n",
       "1                                  rich dad poor dad  \n",
       "2                                      the alchemist  \n",
       "3                              to kill a mockingbird  \n",
       "4  harry potter and the sorcerers stone harry pot...  "
      ]
     },
     "execution_count": 294,
     "metadata": {},
     "output_type": "execute_result"
    }
   ],
   "source": [
    "all_recs.head()"
   ]
  },
  {
   "cell_type": "code",
   "execution_count": 295,
   "metadata": {},
   "outputs": [],
   "source": [
    "all_recs[\"score\"] = all_recs[\"count\"] * (all_recs[\"count\"] / all_recs[\"rating\"])"
   ]
  },
  {
   "cell_type": "code",
   "execution_count": 296,
   "metadata": {},
   "outputs": [],
   "source": [
    "all_recs = all_recs.sort_values(\"score\", ascending=False)"
   ]
  },
  {
   "cell_type": "code",
   "execution_count": 297,
   "metadata": {},
   "outputs": [
    {
     "data": {
      "text/html": [
       "<div>\n",
       "<style scoped>\n",
       "    .dataframe tbody tr th:only-of-type {\n",
       "        vertical-align: middle;\n",
       "    }\n",
       "\n",
       "    .dataframe tbody tr th {\n",
       "        vertical-align: top;\n",
       "    }\n",
       "\n",
       "    .dataframe thead th {\n",
       "        text-align: right;\n",
       "    }\n",
       "</style>\n",
       "<table border=\"1\" class=\"dataframe\">\n",
       "  <thead>\n",
       "    <tr style=\"text-align: right;\">\n",
       "      <th></th>\n",
       "      <th>book_id</th>\n",
       "      <th>count</th>\n",
       "      <th>title</th>\n",
       "      <th>rating</th>\n",
       "      <th>url</th>\n",
       "      <th>image_url</th>\n",
       "      <th>average_rating</th>\n",
       "      <th>edit_title</th>\n",
       "      <th>score</th>\n",
       "    </tr>\n",
       "  </thead>\n",
       "  <tbody>\n",
       "    <tr>\n",
       "      <th>0</th>\n",
       "      <td>4894</td>\n",
       "      <td>8983</td>\n",
       "      <td>Who Moved My Cheese?</td>\n",
       "      <td>245187</td>\n",
       "      <td>https://www.goodreads.com/book/show/4894.Who_M...</td>\n",
       "      <td>https://s.gr-assets.com/assets/nophoto/book/11...</td>\n",
       "      <td>3.74</td>\n",
       "      <td>who moved my cheese</td>\n",
       "      <td>329.113244</td>\n",
       "    </tr>\n",
       "    <tr>\n",
       "      <th>1</th>\n",
       "      <td>69571</td>\n",
       "      <td>6543</td>\n",
       "      <td>Rich Dad, Poor Dad</td>\n",
       "      <td>164543</td>\n",
       "      <td>https://www.goodreads.com/book/show/69571.Rich...</td>\n",
       "      <td>https://s.gr-assets.com/assets/nophoto/book/11...</td>\n",
       "      <td>3.96</td>\n",
       "      <td>rich dad poor dad</td>\n",
       "      <td>260.180312</td>\n",
       "    </tr>\n",
       "    <tr>\n",
       "      <th>12826</th>\n",
       "      <td>25512893</td>\n",
       "      <td>45</td>\n",
       "      <td>Thrive: 30 Inspirational Rags-to-Riches Stories</td>\n",
       "      <td>25</td>\n",
       "      <td>https://www.goodreads.com/book/show/25512893-t...</td>\n",
       "      <td>https://images.gr-assets.com/books/1431211408m...</td>\n",
       "      <td>3.85</td>\n",
       "      <td>thrive 30 inspirational ragstoriches stories</td>\n",
       "      <td>81.000000</td>\n",
       "    </tr>\n",
       "    <tr>\n",
       "      <th>50</th>\n",
       "      <td>1005</td>\n",
       "      <td>2451</td>\n",
       "      <td>Think and Grow Rich</td>\n",
       "      <td>87634</td>\n",
       "      <td>https://www.goodreads.com/book/show/1005.Think...</td>\n",
       "      <td>https://s.gr-assets.com/assets/nophoto/book/11...</td>\n",
       "      <td>4.17</td>\n",
       "      <td>think and grow rich</td>\n",
       "      <td>68.551030</td>\n",
       "    </tr>\n",
       "    <tr>\n",
       "      <th>83</th>\n",
       "      <td>1052</td>\n",
       "      <td>1825</td>\n",
       "      <td>The Richest Man in Babylon</td>\n",
       "      <td>52607</td>\n",
       "      <td>https://www.goodreads.com/book/show/1052.The_R...</td>\n",
       "      <td>https://images.gr-assets.com/books/1348336780m...</td>\n",
       "      <td>4.23</td>\n",
       "      <td>the richest man in babylon</td>\n",
       "      <td>63.311441</td>\n",
       "    </tr>\n",
       "  </tbody>\n",
       "</table>\n",
       "</div>"
      ],
      "text/plain": [
       "        book_id  count                                            title  \\\n",
       "0          4894   8983                             Who Moved My Cheese?   \n",
       "1         69571   6543                               Rich Dad, Poor Dad   \n",
       "12826  25512893     45  Thrive: 30 Inspirational Rags-to-Riches Stories   \n",
       "50         1005   2451                              Think and Grow Rich   \n",
       "83         1052   1825                       The Richest Man in Babylon   \n",
       "\n",
       "       rating                                                url  \\\n",
       "0      245187  https://www.goodreads.com/book/show/4894.Who_M...   \n",
       "1      164543  https://www.goodreads.com/book/show/69571.Rich...   \n",
       "12826      25  https://www.goodreads.com/book/show/25512893-t...   \n",
       "50      87634  https://www.goodreads.com/book/show/1005.Think...   \n",
       "83      52607  https://www.goodreads.com/book/show/1052.The_R...   \n",
       "\n",
       "                                               image_url  average_rating  \\\n",
       "0      https://s.gr-assets.com/assets/nophoto/book/11...            3.74   \n",
       "1      https://s.gr-assets.com/assets/nophoto/book/11...            3.96   \n",
       "12826  https://images.gr-assets.com/books/1431211408m...            3.85   \n",
       "50     https://s.gr-assets.com/assets/nophoto/book/11...            4.17   \n",
       "83     https://images.gr-assets.com/books/1348336780m...            4.23   \n",
       "\n",
       "                                         edit_title       score  \n",
       "0                               who moved my cheese  329.113244  \n",
       "1                                 rich dad poor dad  260.180312  \n",
       "12826  thrive 30 inspirational ragstoriches stories   81.000000  \n",
       "50                              think and grow rich   68.551030  \n",
       "83                       the richest man in babylon   63.311441  "
      ]
     },
     "execution_count": 297,
     "metadata": {},
     "output_type": "execute_result"
    }
   ],
   "source": [
    "all_recs.head()"
   ]
  },
  {
   "cell_type": "code",
   "execution_count": 298,
   "metadata": {},
   "outputs": [],
   "source": [
    "poplular_books = all_recs[all_recs[\"count\"] > 50]"
   ]
  },
  {
   "cell_type": "code",
   "execution_count": 299,
   "metadata": {},
   "outputs": [
    {
     "data": {
      "text/html": [
       "<div>\n",
       "<style scoped>\n",
       "    .dataframe tbody tr th:only-of-type {\n",
       "        vertical-align: middle;\n",
       "    }\n",
       "\n",
       "    .dataframe tbody tr th {\n",
       "        vertical-align: top;\n",
       "    }\n",
       "\n",
       "    .dataframe thead th {\n",
       "        text-align: right;\n",
       "    }\n",
       "</style>\n",
       "<table border=\"1\" class=\"dataframe\">\n",
       "  <thead>\n",
       "    <tr style=\"text-align: right;\">\n",
       "      <th></th>\n",
       "      <th>book_id</th>\n",
       "      <th>count</th>\n",
       "      <th>title</th>\n",
       "      <th>rating</th>\n",
       "      <th>url</th>\n",
       "      <th>image_url</th>\n",
       "      <th>average_rating</th>\n",
       "      <th>edit_title</th>\n",
       "      <th>score</th>\n",
       "    </tr>\n",
       "  </thead>\n",
       "  <tbody>\n",
       "    <tr>\n",
       "      <th>0</th>\n",
       "      <td>4894</td>\n",
       "      <td>8983</td>\n",
       "      <td>Who Moved My Cheese?</td>\n",
       "      <td>245187</td>\n",
       "      <td>https://www.goodreads.com/book/show/4894.Who_M...</td>\n",
       "      <td>https://s.gr-assets.com/assets/nophoto/book/11...</td>\n",
       "      <td>3.74</td>\n",
       "      <td>who moved my cheese</td>\n",
       "      <td>329.113244</td>\n",
       "    </tr>\n",
       "    <tr>\n",
       "      <th>1</th>\n",
       "      <td>69571</td>\n",
       "      <td>6543</td>\n",
       "      <td>Rich Dad, Poor Dad</td>\n",
       "      <td>164543</td>\n",
       "      <td>https://www.goodreads.com/book/show/69571.Rich...</td>\n",
       "      <td>https://s.gr-assets.com/assets/nophoto/book/11...</td>\n",
       "      <td>3.96</td>\n",
       "      <td>rich dad poor dad</td>\n",
       "      <td>260.180312</td>\n",
       "    </tr>\n",
       "    <tr>\n",
       "      <th>50</th>\n",
       "      <td>1005</td>\n",
       "      <td>2451</td>\n",
       "      <td>Think and Grow Rich</td>\n",
       "      <td>87634</td>\n",
       "      <td>https://www.goodreads.com/book/show/1005.Think...</td>\n",
       "      <td>https://s.gr-assets.com/assets/nophoto/book/11...</td>\n",
       "      <td>4.17</td>\n",
       "      <td>think and grow rich</td>\n",
       "      <td>68.551030</td>\n",
       "    </tr>\n",
       "    <tr>\n",
       "      <th>83</th>\n",
       "      <td>1052</td>\n",
       "      <td>1825</td>\n",
       "      <td>The Richest Man in Babylon</td>\n",
       "      <td>52607</td>\n",
       "      <td>https://www.goodreads.com/book/show/1052.The_R...</td>\n",
       "      <td>https://images.gr-assets.com/books/1348336780m...</td>\n",
       "      <td>4.23</td>\n",
       "      <td>the richest man in babylon</td>\n",
       "      <td>63.311441</td>\n",
       "    </tr>\n",
       "    <tr>\n",
       "      <th>6</th>\n",
       "      <td>36072</td>\n",
       "      <td>4566</td>\n",
       "      <td>The 7 Habits of Highly Effective People: Power...</td>\n",
       "      <td>330726</td>\n",
       "      <td>https://www.goodreads.com/book/show/36072.The_...</td>\n",
       "      <td>https://images.gr-assets.com/books/1421842784m...</td>\n",
       "      <td>4.05</td>\n",
       "      <td>the 7 habits of highly effective people powerf...</td>\n",
       "      <td>63.038152</td>\n",
       "    </tr>\n",
       "  </tbody>\n",
       "</table>\n",
       "</div>"
      ],
      "text/plain": [
       "   book_id  count                                              title  rating  \\\n",
       "0     4894   8983                               Who Moved My Cheese?  245187   \n",
       "1    69571   6543                                 Rich Dad, Poor Dad  164543   \n",
       "50    1005   2451                                Think and Grow Rich   87634   \n",
       "83    1052   1825                         The Richest Man in Babylon   52607   \n",
       "6    36072   4566  The 7 Habits of Highly Effective People: Power...  330726   \n",
       "\n",
       "                                                  url  \\\n",
       "0   https://www.goodreads.com/book/show/4894.Who_M...   \n",
       "1   https://www.goodreads.com/book/show/69571.Rich...   \n",
       "50  https://www.goodreads.com/book/show/1005.Think...   \n",
       "83  https://www.goodreads.com/book/show/1052.The_R...   \n",
       "6   https://www.goodreads.com/book/show/36072.The_...   \n",
       "\n",
       "                                            image_url  average_rating  \\\n",
       "0   https://s.gr-assets.com/assets/nophoto/book/11...            3.74   \n",
       "1   https://s.gr-assets.com/assets/nophoto/book/11...            3.96   \n",
       "50  https://s.gr-assets.com/assets/nophoto/book/11...            4.17   \n",
       "83  https://images.gr-assets.com/books/1348336780m...            4.23   \n",
       "6   https://images.gr-assets.com/books/1421842784m...            4.05   \n",
       "\n",
       "                                           edit_title       score  \n",
       "0                                 who moved my cheese  329.113244  \n",
       "1                                   rich dad poor dad  260.180312  \n",
       "50                                think and grow rich   68.551030  \n",
       "83                         the richest man in babylon   63.311441  \n",
       "6   the 7 habits of highly effective people powerf...   63.038152  "
      ]
     },
     "execution_count": 299,
     "metadata": {},
     "output_type": "execute_result"
    }
   ],
   "source": [
    "poplular_books.head()"
   ]
  },
  {
   "cell_type": "code",
   "execution_count": 300,
   "metadata": {},
   "outputs": [
    {
     "name": "stderr",
     "output_type": "stream",
     "text": [
      "C:\\Users\\Abdul\\AppData\\Local\\Temp\\ipykernel_10944\\1647972103.py:1: SettingWithCopyWarning: \n",
      "A value is trying to be set on a copy of a slice from a DataFrame\n",
      "\n",
      "See the caveats in the documentation: https://pandas.pydata.org/pandas-docs/stable/user_guide/indexing.html#returning-a-view-versus-a-copy\n",
      "  poplular_books.drop(\"edit_title\", axis=1, inplace=True)\n"
     ]
    }
   ],
   "source": [
    "poplular_books.drop(\"edit_title\", axis=1, inplace=True)"
   ]
  },
  {
   "cell_type": "code",
   "execution_count": 301,
   "metadata": {},
   "outputs": [
    {
     "data": {
      "text/html": [
       "<style type=\"text/css\">\n",
       "</style>\n",
       "<table id=\"T_a51e4\">\n",
       "  <thead>\n",
       "    <tr>\n",
       "      <th class=\"blank level0\" >&nbsp;</th>\n",
       "      <th id=\"T_a51e4_level0_col0\" class=\"col_heading level0 col0\" >book_id</th>\n",
       "      <th id=\"T_a51e4_level0_col1\" class=\"col_heading level0 col1\" >count</th>\n",
       "      <th id=\"T_a51e4_level0_col2\" class=\"col_heading level0 col2\" >title</th>\n",
       "      <th id=\"T_a51e4_level0_col3\" class=\"col_heading level0 col3\" >rating</th>\n",
       "      <th id=\"T_a51e4_level0_col4\" class=\"col_heading level0 col4\" >url</th>\n",
       "      <th id=\"T_a51e4_level0_col5\" class=\"col_heading level0 col5\" >image_url</th>\n",
       "      <th id=\"T_a51e4_level0_col6\" class=\"col_heading level0 col6\" >average_rating</th>\n",
       "      <th id=\"T_a51e4_level0_col7\" class=\"col_heading level0 col7\" >score</th>\n",
       "    </tr>\n",
       "  </thead>\n",
       "  <tbody>\n",
       "    <tr>\n",
       "      <th id=\"T_a51e4_level0_row0\" class=\"row_heading level0 row0\" >50</th>\n",
       "      <td id=\"T_a51e4_row0_col0\" class=\"data row0 col0\" >1005</td>\n",
       "      <td id=\"T_a51e4_row0_col1\" class=\"data row0 col1\" >2451</td>\n",
       "      <td id=\"T_a51e4_row0_col2\" class=\"data row0 col2\" >Think and Grow Rich</td>\n",
       "      <td id=\"T_a51e4_row0_col3\" class=\"data row0 col3\" >87634</td>\n",
       "      <td id=\"T_a51e4_row0_col4\" class=\"data row0 col4\" ><a target=\"_blank\" href=\"https://www.goodreads.com/book/show/1005.Think_and_GrThink_and_Grow_Rich\">click</a></td>\n",
       "      <td id=\"T_a51e4_row0_col5\" class=\"data row0 col5\" ><img src=\"https://s.gr-assets.com/assets/nophoto/book/111x148-bcc042a9c91a29c1d680899eff700a03.png\" width=\"100\" height=\"100\"></td>\n",
       "      <td id=\"T_a51e4_row0_col6\" class=\"data row0 col6\" >4.170000</td>\n",
       "      <td id=\"T_a51e4_row0_col7\" class=\"data row0 col7\" >68.551030</td>\n",
       "    </tr>\n",
       "    <tr>\n",
       "      <th id=\"T_a51e4_level0_row1\" class=\"row_heading level0 row1\" >83</th>\n",
       "      <td id=\"T_a51e4_row1_col0\" class=\"data row1 col0\" >1052</td>\n",
       "      <td id=\"T_a51e4_row1_col1\" class=\"data row1 col1\" >1825</td>\n",
       "      <td id=\"T_a51e4_row1_col2\" class=\"data row1 col2\" >The Richest Man in Babylon</td>\n",
       "      <td id=\"T_a51e4_row1_col3\" class=\"data row1 col3\" >52607</td>\n",
       "      <td id=\"T_a51e4_row1_col4\" class=\"data row1 col4\" ><a target=\"_blank\" href=\"https://www.goodreads.com/book/show/1052.The_Richest_Man_in_Babylon\">click</a></td>\n",
       "      <td id=\"T_a51e4_row1_col5\" class=\"data row1 col5\" ><img src=\"https://images.gr-assets.com/books/1348336780m/1052.jpg\" width=\"100\" height=\"100\"></td>\n",
       "      <td id=\"T_a51e4_row1_col6\" class=\"data row1 col6\" >4.230000</td>\n",
       "      <td id=\"T_a51e4_row1_col7\" class=\"data row1 col7\" >63.311441</td>\n",
       "    </tr>\n",
       "    <tr>\n",
       "      <th id=\"T_a51e4_level0_row2\" class=\"row_heading level0 row2\" >6</th>\n",
       "      <td id=\"T_a51e4_row2_col0\" class=\"data row2 col0\" >36072</td>\n",
       "      <td id=\"T_a51e4_row2_col1\" class=\"data row2 col1\" >4566</td>\n",
       "      <td id=\"T_a51e4_row2_col2\" class=\"data row2 col2\" >The 7 Habits of Highly Effective People: Powerful Lessons in Personal Change</td>\n",
       "      <td id=\"T_a51e4_row2_col3\" class=\"data row2 col3\" >330726</td>\n",
       "      <td id=\"T_a51e4_row2_col4\" class=\"data row2 col4\" ><a target=\"_blank\" href=\"https://www.goodreads.com/book/show/36072.The_7_Habits_of_Highly_Effective_People\">click</a></td>\n",
       "      <td id=\"T_a51e4_row2_col5\" class=\"data row2 col5\" ><img src=\"https://images.gr-assets.com/books/1421842784m/36072.jpg\" width=\"100\" height=\"100\"></td>\n",
       "      <td id=\"T_a51e4_row2_col6\" class=\"data row2 col6\" >4.050000</td>\n",
       "      <td id=\"T_a51e4_row2_col7\" class=\"data row2 col7\" >63.038152</td>\n",
       "    </tr>\n",
       "    <tr>\n",
       "      <th id=\"T_a51e4_level0_row3\" class=\"row_heading level0 row3\" >8</th>\n",
       "      <td id=\"T_a51e4_row3_col0\" class=\"data row3 col0\" >4865</td>\n",
       "      <td id=\"T_a51e4_row3_col1\" class=\"data row3 col1\" >4232</td>\n",
       "      <td id=\"T_a51e4_row3_col2\" class=\"data row3 col2\" >How to Win Friends and Influence People</td>\n",
       "      <td id=\"T_a51e4_row3_col3\" class=\"data row3 col3\" >296690</td>\n",
       "      <td id=\"T_a51e4_row3_col4\" class=\"data row3 col4\" ><a target=\"_blank\" href=\"https://www.goodreads.com/book/show/4865.How_to_Win_Friends_and_Influence_People\">click</a></td>\n",
       "      <td id=\"T_a51e4_row3_col5\" class=\"data row3 col5\" ><img src=\"https://images.gr-assets.com/books/1442726934m/4865.jpg\" width=\"100\" height=\"100\"></td>\n",
       "      <td id=\"T_a51e4_row3_col6\" class=\"data row3 col6\" >4.140000</td>\n",
       "      <td id=\"T_a51e4_row3_col7\" class=\"data row3 col7\" >60.365445</td>\n",
       "    </tr>\n",
       "    <tr>\n",
       "      <th id=\"T_a51e4_level0_row4\" class=\"row_heading level0 row4\" >206</th>\n",
       "      <td id=\"T_a51e4_row4_col0\" class=\"data row4 col0\" >81922</td>\n",
       "      <td id=\"T_a51e4_row4_col1\" class=\"data row4 col1\" >1126</td>\n",
       "      <td id=\"T_a51e4_row4_col2\" class=\"data row4 col2\" >Rich Dad's Cashflow Quadrant: Rich Dad's Guide to Financial Freedom</td>\n",
       "      <td id=\"T_a51e4_row4_col3\" class=\"data row4 col3\" >25540</td>\n",
       "      <td id=\"T_a51e4_row4_col4\" class=\"data row4 col4\" ><a target=\"_blank\" href=\"https://www.goodreads.com/book/show/81922.Rich_Dad_s_Cashflow_Quadrant\">click</a></td>\n",
       "      <td id=\"T_a51e4_row4_col5\" class=\"data row4 col5\" ><img src=\"https://images.gr-assets.com/books/1483023081m/81922.jpg\" width=\"100\" height=\"100\"></td>\n",
       "      <td id=\"T_a51e4_row4_col6\" class=\"data row4 col6\" >4.060000</td>\n",
       "      <td id=\"T_a51e4_row4_col7\" class=\"data row4 col7\" >49.642756</td>\n",
       "    </tr>\n",
       "    <tr>\n",
       "      <th id=\"T_a51e4_level0_row5\" class=\"row_heading level0 row5\" >145</th>\n",
       "      <td id=\"T_a51e4_row5_col0\" class=\"data row5 col0\" >759945</td>\n",
       "      <td id=\"T_a51e4_row5_col1\" class=\"data row5 col1\" >1357</td>\n",
       "      <td id=\"T_a51e4_row5_col2\" class=\"data row5 col2\" >The Magic of Thinking Big</td>\n",
       "      <td id=\"T_a51e4_row5_col3\" class=\"data row5 col3\" >41542</td>\n",
       "      <td id=\"T_a51e4_row5_col4\" class=\"data row5 col4\" ><a target=\"_blank\" href=\"https://www.goodreads.com/book/show/759945.The_Magic_of_Thinking_Big\">click</a></td>\n",
       "      <td id=\"T_a51e4_row5_col5\" class=\"data row5 col5\" ><img src=\"https://images.gr-assets.com/books/1404632064m/759945.jpg\" width=\"100\" height=\"100\"></td>\n",
       "      <td id=\"T_a51e4_row5_col6\" class=\"data row5 col6\" >4.200000</td>\n",
       "      <td id=\"T_a51e4_row5_col7\" class=\"data row5 col7\" >44.327404</td>\n",
       "    </tr>\n",
       "    <tr>\n",
       "      <th id=\"T_a51e4_level0_row6\" class=\"row_heading level0 row6\" >176</th>\n",
       "      <td id=\"T_a51e4_row6_col0\" class=\"data row6 col0\" >180116</td>\n",
       "      <td id=\"T_a51e4_row6_col1\" class=\"data row6 col1\" >1236</td>\n",
       "      <td id=\"T_a51e4_row6_col2\" class=\"data row6 col2\" >Awaken the Giant Within: How to Take Immediate Control of Your Mental, Emotional, Physical and Financial Destiny!</td>\n",
       "      <td id=\"T_a51e4_row6_col3\" class=\"data row6 col3\" >34917</td>\n",
       "      <td id=\"T_a51e4_row6_col4\" class=\"data row6 col4\" ><a target=\"_blank\" href=\"https://www.goodreads.com/book/show/180116.Awaken_the_Giant_Within\">click</a></td>\n",
       "      <td id=\"T_a51e4_row6_col5\" class=\"data row6 col5\" ><img src=\"https://images.gr-assets.com/books/1415677371m/180116.jpg\" width=\"100\" height=\"100\"></td>\n",
       "      <td id=\"T_a51e4_row6_col6\" class=\"data row6 col6\" >4.110000</td>\n",
       "      <td id=\"T_a51e4_row6_col7\" class=\"data row6 col7\" >43.752212</td>\n",
       "    </tr>\n",
       "    <tr>\n",
       "      <th id=\"T_a51e4_level0_row7\" class=\"row_heading level0 row7\" >26</th>\n",
       "      <td id=\"T_a51e4_row7_col0\" class=\"data row7 col0\" >52529</td>\n",
       "      <td id=\"T_a51e4_row7_col1\" class=\"data row7 col1\" >3210</td>\n",
       "      <td id=\"T_a51e4_row7_col2\" class=\"data row7 col2\" >The Secret (The Secret, #1)</td>\n",
       "      <td id=\"T_a51e4_row7_col3\" class=\"data row7 col3\" >247542</td>\n",
       "      <td id=\"T_a51e4_row7_col4\" class=\"data row7 col4\" ><a target=\"_blank\" href=\"https://www.goodreads.com/book/show/52529.The_Secret\">click</a></td>\n",
       "      <td id=\"T_a51e4_row7_col5\" class=\"data row7 col5\" ><img src=\"https://images.gr-assets.com/books/1482865039m/52529.jpg\" width=\"100\" height=\"100\"></td>\n",
       "      <td id=\"T_a51e4_row7_col6\" class=\"data row7 col6\" >3.630000</td>\n",
       "      <td id=\"T_a51e4_row7_col7\" class=\"data row7 col7\" >41.625664</td>\n",
       "    </tr>\n",
       "    <tr>\n",
       "      <th id=\"T_a51e4_level0_row8\" class=\"row_heading level0 row8\" >94</th>\n",
       "      <td id=\"T_a51e4_row8_col0\" class=\"data row8 col0\" >763362</td>\n",
       "      <td id=\"T_a51e4_row8_col1\" class=\"data row8 col1\" >1704</td>\n",
       "      <td id=\"T_a51e4_row8_col2\" class=\"data row8 col2\" >The One Minute Manager</td>\n",
       "      <td id=\"T_a51e4_row8_col3\" class=\"data row8 col3\" >72624</td>\n",
       "      <td id=\"T_a51e4_row8_col4\" class=\"data row8 col4\" ><a target=\"_blank\" href=\"https://www.goodreads.com/book/show/763362.The_One_Minute_Manager\">click</a></td>\n",
       "      <td id=\"T_a51e4_row8_col5\" class=\"data row8 col5\" ><img src=\"https://s.gr-assets.com/assets/nophoto/book/111x148-bcc042a9c91a29c1d680899eff700a03.png\" width=\"100\" height=\"100\"></td>\n",
       "      <td id=\"T_a51e4_row8_col6\" class=\"data row8 col6\" >3.860000</td>\n",
       "      <td id=\"T_a51e4_row8_col7\" class=\"data row8 col7\" >39.981494</td>\n",
       "    </tr>\n",
       "    <tr>\n",
       "      <th id=\"T_a51e4_level0_row9\" class=\"row_heading level0 row9\" >126</th>\n",
       "      <td id=\"T_a51e4_row9_col0\" class=\"data row9 col0\" >43877</td>\n",
       "      <td id=\"T_a51e4_row9_col1\" class=\"data row9 col1\" >1454</td>\n",
       "      <td id=\"T_a51e4_row9_col2\" class=\"data row9 col2\" >The Monk Who Sold His Ferrari: A Fable About Fulfilling Your Dreams  Reaching Your Destiny</td>\n",
       "      <td id=\"T_a51e4_row9_col3\" class=\"data row9 col3\" >53930</td>\n",
       "      <td id=\"T_a51e4_row9_col4\" class=\"data row9 col4\" ><a target=\"_blank\" href=\"https://www.goodreads.com/book/show/43877.The_Monk_Who_Sold_His_Ferrari\">click</a></td>\n",
       "      <td id=\"T_a51e4_row9_col5\" class=\"data row9 col5\" ><img src=\"https://s.gr-assets.com/assets/nophoto/book/111x148-bcc042a9c91a29c1d680899eff700a03.png\" width=\"100\" height=\"100\"></td>\n",
       "      <td id=\"T_a51e4_row9_col6\" class=\"data row9 col6\" >3.780000</td>\n",
       "      <td id=\"T_a51e4_row9_col7\" class=\"data row9 col7\" >39.201113</td>\n",
       "    </tr>\n",
       "  </tbody>\n",
       "</table>\n"
      ],
      "text/plain": [
       "<pandas.io.formats.style.Styler at 0x23e80f4e240>"
      ]
     },
     "execution_count": 301,
     "metadata": {},
     "output_type": "execute_result"
    }
   ],
   "source": [
    "# Function to make the URLs clickable\n",
    "def make_clickable(val):\n",
    "    return '<a target=\"_blank\" href=\"{}\">click</a>'.format(val)\n",
    "\n",
    "# Function to display images\n",
    "def show_image(val):\n",
    "    return '<img src=\"{}\" width=\"100\" height=\"100\">'.format(val)\n",
    "\n",
    "poplular_books[~poplular_books[\"book_id\"].isin(liked_books)].head(10).style.format({'url': make_clickable, 'image_url': show_image})"
   ]
  },
  {
   "cell_type": "code",
   "execution_count": null,
   "metadata": {},
   "outputs": [],
   "source": []
  }
 ],
 "metadata": {
  "kernelspec": {
   "display_name": "base",
   "language": "python",
   "name": "python3"
  },
  "language_info": {
   "codemirror_mode": {
    "name": "ipython",
    "version": 3
   },
   "file_extension": ".py",
   "mimetype": "text/x-python",
   "name": "python",
   "nbconvert_exporter": "python",
   "pygments_lexer": "ipython3",
   "version": "3.12.8"
  }
 },
 "nbformat": 4,
 "nbformat_minor": 2
}
