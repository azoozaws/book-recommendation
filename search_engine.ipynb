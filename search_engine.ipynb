{
 "cells": [
  {
   "cell_type": "code",
   "execution_count": 6,
   "metadata": {},
   "outputs": [],
   "source": [
    "import numpy as np\n",
    "import pandas as pd\n",
    "import matplotlib.pyplot as plt\n",
    "import seaborn as sns"
   ]
  },
  {
   "cell_type": "code",
   "execution_count": 7,
   "metadata": {},
   "outputs": [],
   "source": [
    "import gzip\n",
    "with gzip.open('goodreads_books.json.gz', 'r') as f:\n",
    "    line = f.readline()"
   ]
  },
  {
   "cell_type": "code",
   "execution_count": 8,
   "metadata": {},
   "outputs": [
    {
     "data": {
      "text/plain": [
       "{'isbn': '0312853122',\n",
       " 'text_reviews_count': '1',\n",
       " 'series': [],\n",
       " 'country_code': 'US',\n",
       " 'language_code': '',\n",
       " 'popular_shelves': [{'count': '3', 'name': 'to-read'},\n",
       "  {'count': '1', 'name': 'p'},\n",
       "  {'count': '1', 'name': 'collection'},\n",
       "  {'count': '1', 'name': 'w-c-fields'},\n",
       "  {'count': '1', 'name': 'biography'}],\n",
       " 'asin': '',\n",
       " 'is_ebook': 'false',\n",
       " 'average_rating': '4.00',\n",
       " 'kindle_asin': '',\n",
       " 'similar_books': [],\n",
       " 'description': '',\n",
       " 'format': 'Paperback',\n",
       " 'link': 'https://www.goodreads.com/book/show/5333265-w-c-fields',\n",
       " 'authors': [{'author_id': '604031', 'role': ''}],\n",
       " 'publisher': \"St. Martin's Press\",\n",
       " 'num_pages': '256',\n",
       " 'publication_day': '1',\n",
       " 'isbn13': '9780312853129',\n",
       " 'publication_month': '9',\n",
       " 'edition_information': '',\n",
       " 'publication_year': '1984',\n",
       " 'url': 'https://www.goodreads.com/book/show/5333265-w-c-fields',\n",
       " 'image_url': 'https://images.gr-assets.com/books/1310220028m/5333265.jpg',\n",
       " 'book_id': '5333265',\n",
       " 'ratings_count': '3',\n",
       " 'work_id': '5400751',\n",
       " 'title': 'W.C. Fields: A Life on Film',\n",
       " 'title_without_series': 'W.C. Fields: A Life on Film'}"
      ]
     },
     "execution_count": 8,
     "metadata": {},
     "output_type": "execute_result"
    }
   ],
   "source": [
    "import json\n",
    "json.loads(line)"
   ]
  },
  {
   "cell_type": "code",
   "execution_count": 9,
   "metadata": {},
   "outputs": [],
   "source": [
    "# Function to parse each line of the file\n",
    "def parse(line):\n",
    "    data = json.loads(line)\n",
    "    return {\n",
    "        \"book_id\": data.get(\"book_id\"),\n",
    "        \"title\": data.get(\"title\"),\n",
    "        \"rating\": data.get(\"ratings_count\"),\n",
    "        \"url\": data.get(\"url\"),\n",
    "        \"image_url\": data.get(\"image_url\"),\n",
    "        \"average_rating\": data.get(\"average_rating\"),\n",
    "    }"
   ]
  },
  {
   "cell_type": "code",
   "execution_count": 10,
   "metadata": {},
   "outputs": [],
   "source": [
    "# Load the data into a list\n",
    "books = []\n",
    "with gzip.open('goodreads_books.json.gz', 'r') as f:\n",
    "    for line in f:\n",
    "        field = parse(line)\n",
    "        try:\n",
    "            rating = int(field[\"rating\"])\n",
    "        except ValueError:\n",
    "            continue\n",
    "        if rating > 15:\n",
    "            books.append(field)"
   ]
  },
  {
   "cell_type": "code",
   "execution_count": 11,
   "metadata": {},
   "outputs": [
    {
     "data": {
      "text/html": [
       "<div>\n",
       "<style scoped>\n",
       "    .dataframe tbody tr th:only-of-type {\n",
       "        vertical-align: middle;\n",
       "    }\n",
       "\n",
       "    .dataframe tbody tr th {\n",
       "        vertical-align: top;\n",
       "    }\n",
       "\n",
       "    .dataframe thead th {\n",
       "        text-align: right;\n",
       "    }\n",
       "</style>\n",
       "<table border=\"1\" class=\"dataframe\">\n",
       "  <thead>\n",
       "    <tr style=\"text-align: right;\">\n",
       "      <th></th>\n",
       "      <th>book_id</th>\n",
       "      <th>title</th>\n",
       "      <th>rating</th>\n",
       "      <th>url</th>\n",
       "      <th>image_url</th>\n",
       "      <th>average_rating</th>\n",
       "    </tr>\n",
       "  </thead>\n",
       "  <tbody>\n",
       "    <tr>\n",
       "      <th>0</th>\n",
       "      <td>7327624</td>\n",
       "      <td>The Unschooled Wizard (Sun Wolf and Starhawk, ...</td>\n",
       "      <td>140</td>\n",
       "      <td>https://www.goodreads.com/book/show/7327624-th...</td>\n",
       "      <td>https://images.gr-assets.com/books/1304100136m...</td>\n",
       "      <td>4.03</td>\n",
       "    </tr>\n",
       "    <tr>\n",
       "      <th>1</th>\n",
       "      <td>6066819</td>\n",
       "      <td>Best Friends Forever</td>\n",
       "      <td>51184</td>\n",
       "      <td>https://www.goodreads.com/book/show/6066819-be...</td>\n",
       "      <td>https://s.gr-assets.com/assets/nophoto/book/11...</td>\n",
       "      <td>3.49</td>\n",
       "    </tr>\n",
       "    <tr>\n",
       "      <th>2</th>\n",
       "      <td>287141</td>\n",
       "      <td>The Aeneid for Boys and Girls</td>\n",
       "      <td>46</td>\n",
       "      <td>https://www.goodreads.com/book/show/287141.The...</td>\n",
       "      <td>https://s.gr-assets.com/assets/nophoto/book/11...</td>\n",
       "      <td>4.13</td>\n",
       "    </tr>\n",
       "    <tr>\n",
       "      <th>3</th>\n",
       "      <td>6066812</td>\n",
       "      <td>All's Fairy in Love and War (Avalon: Web of Ma...</td>\n",
       "      <td>98</td>\n",
       "      <td>https://www.goodreads.com/book/show/6066812-al...</td>\n",
       "      <td>https://images.gr-assets.com/books/1316637798m...</td>\n",
       "      <td>4.22</td>\n",
       "    </tr>\n",
       "    <tr>\n",
       "      <th>4</th>\n",
       "      <td>287149</td>\n",
       "      <td>The Devil's Notebook</td>\n",
       "      <td>986</td>\n",
       "      <td>https://www.goodreads.com/book/show/287149.The...</td>\n",
       "      <td>https://images.gr-assets.com/books/1328768789m...</td>\n",
       "      <td>3.81</td>\n",
       "    </tr>\n",
       "  </tbody>\n",
       "</table>\n",
       "</div>"
      ],
      "text/plain": [
       "   book_id                                              title rating  \\\n",
       "0  7327624  The Unschooled Wizard (Sun Wolf and Starhawk, ...    140   \n",
       "1  6066819                               Best Friends Forever  51184   \n",
       "2   287141                      The Aeneid for Boys and Girls     46   \n",
       "3  6066812  All's Fairy in Love and War (Avalon: Web of Ma...     98   \n",
       "4   287149                               The Devil's Notebook    986   \n",
       "\n",
       "                                                 url  \\\n",
       "0  https://www.goodreads.com/book/show/7327624-th...   \n",
       "1  https://www.goodreads.com/book/show/6066819-be...   \n",
       "2  https://www.goodreads.com/book/show/287141.The...   \n",
       "3  https://www.goodreads.com/book/show/6066812-al...   \n",
       "4  https://www.goodreads.com/book/show/287149.The...   \n",
       "\n",
       "                                           image_url average_rating  \n",
       "0  https://images.gr-assets.com/books/1304100136m...           4.03  \n",
       "1  https://s.gr-assets.com/assets/nophoto/book/11...           3.49  \n",
       "2  https://s.gr-assets.com/assets/nophoto/book/11...           4.13  \n",
       "3  https://images.gr-assets.com/books/1316637798m...           4.22  \n",
       "4  https://images.gr-assets.com/books/1328768789m...           3.81  "
      ]
     },
     "execution_count": 11,
     "metadata": {},
     "output_type": "execute_result"
    }
   ],
   "source": [
    "titles = pd.DataFrame.from_records(books)\n",
    "titles.head()"
   ]
  },
  {
   "cell_type": "code",
   "execution_count": 12,
   "metadata": {},
   "outputs": [],
   "source": [
    "titles['rating'] = pd.to_numeric(titles['rating'])"
   ]
  },
  {
   "cell_type": "code",
   "execution_count": 13,
   "metadata": {},
   "outputs": [],
   "source": [
    "titles['average_rating'] = pd.to_numeric(titles['average_rating'])"
   ]
  },
  {
   "cell_type": "code",
   "execution_count": 14,
   "metadata": {},
   "outputs": [
    {
     "data": {
      "text/html": [
       "<div>\n",
       "<style scoped>\n",
       "    .dataframe tbody tr th:only-of-type {\n",
       "        vertical-align: middle;\n",
       "    }\n",
       "\n",
       "    .dataframe tbody tr th {\n",
       "        vertical-align: top;\n",
       "    }\n",
       "\n",
       "    .dataframe thead th {\n",
       "        text-align: right;\n",
       "    }\n",
       "</style>\n",
       "<table border=\"1\" class=\"dataframe\">\n",
       "  <thead>\n",
       "    <tr style=\"text-align: right;\">\n",
       "      <th></th>\n",
       "      <th>book_id</th>\n",
       "      <th>title</th>\n",
       "      <th>rating</th>\n",
       "      <th>url</th>\n",
       "      <th>image_url</th>\n",
       "      <th>average_rating</th>\n",
       "    </tr>\n",
       "  </thead>\n",
       "  <tbody>\n",
       "    <tr>\n",
       "      <th>0</th>\n",
       "      <td>7327624</td>\n",
       "      <td>The Unschooled Wizard (Sun Wolf and Starhawk, ...</td>\n",
       "      <td>140</td>\n",
       "      <td>https://www.goodreads.com/book/show/7327624-th...</td>\n",
       "      <td>https://images.gr-assets.com/books/1304100136m...</td>\n",
       "      <td>4.03</td>\n",
       "    </tr>\n",
       "    <tr>\n",
       "      <th>1</th>\n",
       "      <td>6066819</td>\n",
       "      <td>Best Friends Forever</td>\n",
       "      <td>51184</td>\n",
       "      <td>https://www.goodreads.com/book/show/6066819-be...</td>\n",
       "      <td>https://s.gr-assets.com/assets/nophoto/book/11...</td>\n",
       "      <td>3.49</td>\n",
       "    </tr>\n",
       "    <tr>\n",
       "      <th>2</th>\n",
       "      <td>287141</td>\n",
       "      <td>The Aeneid for Boys and Girls</td>\n",
       "      <td>46</td>\n",
       "      <td>https://www.goodreads.com/book/show/287141.The...</td>\n",
       "      <td>https://s.gr-assets.com/assets/nophoto/book/11...</td>\n",
       "      <td>4.13</td>\n",
       "    </tr>\n",
       "    <tr>\n",
       "      <th>3</th>\n",
       "      <td>6066812</td>\n",
       "      <td>All's Fairy in Love and War (Avalon: Web of Ma...</td>\n",
       "      <td>98</td>\n",
       "      <td>https://www.goodreads.com/book/show/6066812-al...</td>\n",
       "      <td>https://images.gr-assets.com/books/1316637798m...</td>\n",
       "      <td>4.22</td>\n",
       "    </tr>\n",
       "    <tr>\n",
       "      <th>4</th>\n",
       "      <td>287149</td>\n",
       "      <td>The Devil's Notebook</td>\n",
       "      <td>986</td>\n",
       "      <td>https://www.goodreads.com/book/show/287149.The...</td>\n",
       "      <td>https://images.gr-assets.com/books/1328768789m...</td>\n",
       "      <td>3.81</td>\n",
       "    </tr>\n",
       "  </tbody>\n",
       "</table>\n",
       "</div>"
      ],
      "text/plain": [
       "   book_id                                              title  rating  \\\n",
       "0  7327624  The Unschooled Wizard (Sun Wolf and Starhawk, ...     140   \n",
       "1  6066819                               Best Friends Forever   51184   \n",
       "2   287141                      The Aeneid for Boys and Girls      46   \n",
       "3  6066812  All's Fairy in Love and War (Avalon: Web of Ma...      98   \n",
       "4   287149                               The Devil's Notebook     986   \n",
       "\n",
       "                                                 url  \\\n",
       "0  https://www.goodreads.com/book/show/7327624-th...   \n",
       "1  https://www.goodreads.com/book/show/6066819-be...   \n",
       "2  https://www.goodreads.com/book/show/287141.The...   \n",
       "3  https://www.goodreads.com/book/show/6066812-al...   \n",
       "4  https://www.goodreads.com/book/show/287149.The...   \n",
       "\n",
       "                                           image_url  average_rating  \n",
       "0  https://images.gr-assets.com/books/1304100136m...            4.03  \n",
       "1  https://s.gr-assets.com/assets/nophoto/book/11...            3.49  \n",
       "2  https://s.gr-assets.com/assets/nophoto/book/11...            4.13  \n",
       "3  https://images.gr-assets.com/books/1316637798m...            4.22  \n",
       "4  https://images.gr-assets.com/books/1328768789m...            3.81  "
      ]
     },
     "execution_count": 14,
     "metadata": {},
     "output_type": "execute_result"
    }
   ],
   "source": [
    "titles.head()"
   ]
  },
  {
   "cell_type": "code",
   "execution_count": 15,
   "metadata": {},
   "outputs": [],
   "source": [
    "titles['edit_title'] = titles['title'].str.replace('[^a-zA-Z0-9 ]', '', regex=True)"
   ]
  },
  {
   "cell_type": "code",
   "execution_count": 16,
   "metadata": {},
   "outputs": [
    {
     "data": {
      "text/html": [
       "<div>\n",
       "<style scoped>\n",
       "    .dataframe tbody tr th:only-of-type {\n",
       "        vertical-align: middle;\n",
       "    }\n",
       "\n",
       "    .dataframe tbody tr th {\n",
       "        vertical-align: top;\n",
       "    }\n",
       "\n",
       "    .dataframe thead th {\n",
       "        text-align: right;\n",
       "    }\n",
       "</style>\n",
       "<table border=\"1\" class=\"dataframe\">\n",
       "  <thead>\n",
       "    <tr style=\"text-align: right;\">\n",
       "      <th></th>\n",
       "      <th>book_id</th>\n",
       "      <th>title</th>\n",
       "      <th>rating</th>\n",
       "      <th>url</th>\n",
       "      <th>image_url</th>\n",
       "      <th>average_rating</th>\n",
       "      <th>edit_title</th>\n",
       "    </tr>\n",
       "  </thead>\n",
       "  <tbody>\n",
       "    <tr>\n",
       "      <th>0</th>\n",
       "      <td>7327624</td>\n",
       "      <td>The Unschooled Wizard (Sun Wolf and Starhawk, ...</td>\n",
       "      <td>140</td>\n",
       "      <td>https://www.goodreads.com/book/show/7327624-th...</td>\n",
       "      <td>https://images.gr-assets.com/books/1304100136m...</td>\n",
       "      <td>4.03</td>\n",
       "      <td>The Unschooled Wizard Sun Wolf and Starhawk 12</td>\n",
       "    </tr>\n",
       "    <tr>\n",
       "      <th>1</th>\n",
       "      <td>6066819</td>\n",
       "      <td>Best Friends Forever</td>\n",
       "      <td>51184</td>\n",
       "      <td>https://www.goodreads.com/book/show/6066819-be...</td>\n",
       "      <td>https://s.gr-assets.com/assets/nophoto/book/11...</td>\n",
       "      <td>3.49</td>\n",
       "      <td>Best Friends Forever</td>\n",
       "    </tr>\n",
       "    <tr>\n",
       "      <th>2</th>\n",
       "      <td>287141</td>\n",
       "      <td>The Aeneid for Boys and Girls</td>\n",
       "      <td>46</td>\n",
       "      <td>https://www.goodreads.com/book/show/287141.The...</td>\n",
       "      <td>https://s.gr-assets.com/assets/nophoto/book/11...</td>\n",
       "      <td>4.13</td>\n",
       "      <td>The Aeneid for Boys and Girls</td>\n",
       "    </tr>\n",
       "    <tr>\n",
       "      <th>3</th>\n",
       "      <td>6066812</td>\n",
       "      <td>All's Fairy in Love and War (Avalon: Web of Ma...</td>\n",
       "      <td>98</td>\n",
       "      <td>https://www.goodreads.com/book/show/6066812-al...</td>\n",
       "      <td>https://images.gr-assets.com/books/1316637798m...</td>\n",
       "      <td>4.22</td>\n",
       "      <td>Alls Fairy in Love and War Avalon Web of Magic 8</td>\n",
       "    </tr>\n",
       "    <tr>\n",
       "      <th>4</th>\n",
       "      <td>287149</td>\n",
       "      <td>The Devil's Notebook</td>\n",
       "      <td>986</td>\n",
       "      <td>https://www.goodreads.com/book/show/287149.The...</td>\n",
       "      <td>https://images.gr-assets.com/books/1328768789m...</td>\n",
       "      <td>3.81</td>\n",
       "      <td>The Devils Notebook</td>\n",
       "    </tr>\n",
       "  </tbody>\n",
       "</table>\n",
       "</div>"
      ],
      "text/plain": [
       "   book_id                                              title  rating  \\\n",
       "0  7327624  The Unschooled Wizard (Sun Wolf and Starhawk, ...     140   \n",
       "1  6066819                               Best Friends Forever   51184   \n",
       "2   287141                      The Aeneid for Boys and Girls      46   \n",
       "3  6066812  All's Fairy in Love and War (Avalon: Web of Ma...      98   \n",
       "4   287149                               The Devil's Notebook     986   \n",
       "\n",
       "                                                 url  \\\n",
       "0  https://www.goodreads.com/book/show/7327624-th...   \n",
       "1  https://www.goodreads.com/book/show/6066819-be...   \n",
       "2  https://www.goodreads.com/book/show/287141.The...   \n",
       "3  https://www.goodreads.com/book/show/6066812-al...   \n",
       "4  https://www.goodreads.com/book/show/287149.The...   \n",
       "\n",
       "                                           image_url  average_rating  \\\n",
       "0  https://images.gr-assets.com/books/1304100136m...            4.03   \n",
       "1  https://s.gr-assets.com/assets/nophoto/book/11...            3.49   \n",
       "2  https://s.gr-assets.com/assets/nophoto/book/11...            4.13   \n",
       "3  https://images.gr-assets.com/books/1316637798m...            4.22   \n",
       "4  https://images.gr-assets.com/books/1328768789m...            3.81   \n",
       "\n",
       "                                         edit_title  \n",
       "0    The Unschooled Wizard Sun Wolf and Starhawk 12  \n",
       "1                              Best Friends Forever  \n",
       "2                     The Aeneid for Boys and Girls  \n",
       "3  Alls Fairy in Love and War Avalon Web of Magic 8  \n",
       "4                               The Devils Notebook  "
      ]
     },
     "execution_count": 16,
     "metadata": {},
     "output_type": "execute_result"
    }
   ],
   "source": [
    "titles.head()"
   ]
  },
  {
   "cell_type": "code",
   "execution_count": 17,
   "metadata": {},
   "outputs": [],
   "source": [
    "# Lowercase the edit_title column\n",
    "titles['edit_title'] = titles['edit_title'].str.lower()"
   ]
  },
  {
   "cell_type": "code",
   "execution_count": 18,
   "metadata": {},
   "outputs": [
    {
     "name": "stderr",
     "output_type": "stream",
     "text": [
      "<>:2: SyntaxWarning: invalid escape sequence '\\s'\n",
      "<>:2: SyntaxWarning: invalid escape sequence '\\s'\n",
      "C:\\Users\\Abdul\\AppData\\Local\\Temp\\ipykernel_14636\\3952347300.py:2: SyntaxWarning: invalid escape sequence '\\s'\n",
      "  titles['edit_title'] = titles['edit_title'].str.replace('\\s+', ' ', regex=True)\n"
     ]
    }
   ],
   "source": [
    "# Remove extra spaces\n",
    "titles['edit_title'] = titles['edit_title'].str.replace('\\s+', ' ', regex=True)"
   ]
  },
  {
   "cell_type": "code",
   "execution_count": 19,
   "metadata": {},
   "outputs": [
    {
     "data": {
      "text/html": [
       "<div>\n",
       "<style scoped>\n",
       "    .dataframe tbody tr th:only-of-type {\n",
       "        vertical-align: middle;\n",
       "    }\n",
       "\n",
       "    .dataframe tbody tr th {\n",
       "        vertical-align: top;\n",
       "    }\n",
       "\n",
       "    .dataframe thead th {\n",
       "        text-align: right;\n",
       "    }\n",
       "</style>\n",
       "<table border=\"1\" class=\"dataframe\">\n",
       "  <thead>\n",
       "    <tr style=\"text-align: right;\">\n",
       "      <th></th>\n",
       "      <th>book_id</th>\n",
       "      <th>title</th>\n",
       "      <th>rating</th>\n",
       "      <th>url</th>\n",
       "      <th>image_url</th>\n",
       "      <th>average_rating</th>\n",
       "      <th>edit_title</th>\n",
       "    </tr>\n",
       "  </thead>\n",
       "  <tbody>\n",
       "    <tr>\n",
       "      <th>0</th>\n",
       "      <td>7327624</td>\n",
       "      <td>The Unschooled Wizard (Sun Wolf and Starhawk, ...</td>\n",
       "      <td>140</td>\n",
       "      <td>https://www.goodreads.com/book/show/7327624-th...</td>\n",
       "      <td>https://images.gr-assets.com/books/1304100136m...</td>\n",
       "      <td>4.03</td>\n",
       "      <td>the unschooled wizard sun wolf and starhawk 12</td>\n",
       "    </tr>\n",
       "    <tr>\n",
       "      <th>1</th>\n",
       "      <td>6066819</td>\n",
       "      <td>Best Friends Forever</td>\n",
       "      <td>51184</td>\n",
       "      <td>https://www.goodreads.com/book/show/6066819-be...</td>\n",
       "      <td>https://s.gr-assets.com/assets/nophoto/book/11...</td>\n",
       "      <td>3.49</td>\n",
       "      <td>best friends forever</td>\n",
       "    </tr>\n",
       "    <tr>\n",
       "      <th>2</th>\n",
       "      <td>287141</td>\n",
       "      <td>The Aeneid for Boys and Girls</td>\n",
       "      <td>46</td>\n",
       "      <td>https://www.goodreads.com/book/show/287141.The...</td>\n",
       "      <td>https://s.gr-assets.com/assets/nophoto/book/11...</td>\n",
       "      <td>4.13</td>\n",
       "      <td>the aeneid for boys and girls</td>\n",
       "    </tr>\n",
       "    <tr>\n",
       "      <th>3</th>\n",
       "      <td>6066812</td>\n",
       "      <td>All's Fairy in Love and War (Avalon: Web of Ma...</td>\n",
       "      <td>98</td>\n",
       "      <td>https://www.goodreads.com/book/show/6066812-al...</td>\n",
       "      <td>https://images.gr-assets.com/books/1316637798m...</td>\n",
       "      <td>4.22</td>\n",
       "      <td>alls fairy in love and war avalon web of magic 8</td>\n",
       "    </tr>\n",
       "    <tr>\n",
       "      <th>4</th>\n",
       "      <td>287149</td>\n",
       "      <td>The Devil's Notebook</td>\n",
       "      <td>986</td>\n",
       "      <td>https://www.goodreads.com/book/show/287149.The...</td>\n",
       "      <td>https://images.gr-assets.com/books/1328768789m...</td>\n",
       "      <td>3.81</td>\n",
       "      <td>the devils notebook</td>\n",
       "    </tr>\n",
       "  </tbody>\n",
       "</table>\n",
       "</div>"
      ],
      "text/plain": [
       "   book_id                                              title  rating  \\\n",
       "0  7327624  The Unschooled Wizard (Sun Wolf and Starhawk, ...     140   \n",
       "1  6066819                               Best Friends Forever   51184   \n",
       "2   287141                      The Aeneid for Boys and Girls      46   \n",
       "3  6066812  All's Fairy in Love and War (Avalon: Web of Ma...      98   \n",
       "4   287149                               The Devil's Notebook     986   \n",
       "\n",
       "                                                 url  \\\n",
       "0  https://www.goodreads.com/book/show/7327624-th...   \n",
       "1  https://www.goodreads.com/book/show/6066819-be...   \n",
       "2  https://www.goodreads.com/book/show/287141.The...   \n",
       "3  https://www.goodreads.com/book/show/6066812-al...   \n",
       "4  https://www.goodreads.com/book/show/287149.The...   \n",
       "\n",
       "                                           image_url  average_rating  \\\n",
       "0  https://images.gr-assets.com/books/1304100136m...            4.03   \n",
       "1  https://s.gr-assets.com/assets/nophoto/book/11...            3.49   \n",
       "2  https://s.gr-assets.com/assets/nophoto/book/11...            4.13   \n",
       "3  https://images.gr-assets.com/books/1316637798m...            4.22   \n",
       "4  https://images.gr-assets.com/books/1328768789m...            3.81   \n",
       "\n",
       "                                         edit_title  \n",
       "0    the unschooled wizard sun wolf and starhawk 12  \n",
       "1                              best friends forever  \n",
       "2                     the aeneid for boys and girls  \n",
       "3  alls fairy in love and war avalon web of magic 8  \n",
       "4                               the devils notebook  "
      ]
     },
     "execution_count": 19,
     "metadata": {},
     "output_type": "execute_result"
    }
   ],
   "source": [
    "titles.head()"
   ]
  },
  {
   "cell_type": "code",
   "execution_count": 20,
   "metadata": {},
   "outputs": [
    {
     "data": {
      "text/plain": [
       "<Axes: >"
      ]
     },
     "execution_count": 20,
     "metadata": {},
     "output_type": "execute_result"
    },
    {
     "data": {
      "image/png": "[encoded data removed]",
      "text/plain": [
       "<Figure size 640x480 with 1 Axes>"
      ]
     },
     "metadata": {},
     "output_type": "display_data"
    }
   ],
   "source": [
    "# check for missing values\n",
    "sns.heatmap(titles.isnull(), yticklabels=False,cbar=False,cmap='viridis')"
   ]
  },
  {
   "cell_type": "code",
   "execution_count": 21,
   "metadata": {},
   "outputs": [
    {
     "name": "stdout",
     "output_type": "stream",
     "text": [
      "<class 'pandas.core.frame.DataFrame'>\n",
      "RangeIndex: 1308957 entries, 0 to 1308956\n",
      "Data columns (total 7 columns):\n",
      " #   Column          Non-Null Count    Dtype  \n",
      "---  ------          --------------    -----  \n",
      " 0   book_id         1308957 non-null  object \n",
      " 1   title           1308957 non-null  object \n",
      " 2   rating          1308957 non-null  int64  \n",
      " 3   url             1308957 non-null  object \n",
      " 4   image_url       1308957 non-null  object \n",
      " 5   average_rating  1308957 non-null  float64\n",
      " 6   edit_title      1308957 non-null  object \n",
      "dtypes: float64(1), int64(1), object(5)\n",
      "memory usage: 69.9+ MB\n"
     ]
    }
   ],
   "source": [
    "titles.info()"
   ]
  },
  {
   "cell_type": "code",
   "execution_count": 22,
   "metadata": {},
   "outputs": [
    {
     "data": {
      "text/plain": [
       "book_id           0\n",
       "title             0\n",
       "rating            0\n",
       "url               0\n",
       "image_url         0\n",
       "average_rating    0\n",
       "edit_title        0\n",
       "dtype: int64"
      ]
     },
     "execution_count": 22,
     "metadata": {},
     "output_type": "execute_result"
    }
   ],
   "source": [
    "titles.isnull().sum()"
   ]
  },
  {
   "cell_type": "code",
   "execution_count": 23,
   "metadata": {},
   "outputs": [],
   "source": [
    "# Drop missing values\n",
    "titles.dropna(inplace=True)"
   ]
  },
  {
   "cell_type": "code",
   "execution_count": 24,
   "metadata": {},
   "outputs": [
    {
     "data": {
      "text/plain": [
       "book_id           0\n",
       "title             0\n",
       "rating            0\n",
       "url               0\n",
       "image_url         0\n",
       "average_rating    0\n",
       "edit_title        0\n",
       "dtype: int64"
      ]
     },
     "execution_count": 24,
     "metadata": {},
     "output_type": "execute_result"
    }
   ],
   "source": [
    "titles.isnull().sum()"
   ]
  },
  {
   "cell_type": "code",
   "execution_count": 25,
   "metadata": {},
   "outputs": [
    {
     "data": {
      "text/html": [
       "<div>\n",
       "<style scoped>\n",
       "    .dataframe tbody tr th:only-of-type {\n",
       "        vertical-align: middle;\n",
       "    }\n",
       "\n",
       "    .dataframe tbody tr th {\n",
       "        vertical-align: top;\n",
       "    }\n",
       "\n",
       "    .dataframe thead th {\n",
       "        text-align: right;\n",
       "    }\n",
       "</style>\n",
       "<table border=\"1\" class=\"dataframe\">\n",
       "  <thead>\n",
       "    <tr style=\"text-align: right;\">\n",
       "      <th></th>\n",
       "      <th>rating</th>\n",
       "      <th>average_rating</th>\n",
       "    </tr>\n",
       "  </thead>\n",
       "  <tbody>\n",
       "    <tr>\n",
       "      <th>count</th>\n",
       "      <td>1.308957e+06</td>\n",
       "      <td>1.308957e+06</td>\n",
       "    </tr>\n",
       "    <tr>\n",
       "      <th>mean</th>\n",
       "      <td>7.279124e+02</td>\n",
       "      <td>3.885648e+00</td>\n",
       "    </tr>\n",
       "    <tr>\n",
       "      <th>std</th>\n",
       "      <td>1.493248e+04</td>\n",
       "      <td>3.611875e-01</td>\n",
       "    </tr>\n",
       "    <tr>\n",
       "      <th>min</th>\n",
       "      <td>1.600000e+01</td>\n",
       "      <td>0.000000e+00</td>\n",
       "    </tr>\n",
       "    <tr>\n",
       "      <th>25%</th>\n",
       "      <td>3.000000e+01</td>\n",
       "      <td>3.670000e+00</td>\n",
       "    </tr>\n",
       "    <tr>\n",
       "      <th>50%</th>\n",
       "      <td>6.400000e+01</td>\n",
       "      <td>3.910000e+00</td>\n",
       "    </tr>\n",
       "    <tr>\n",
       "      <th>75%</th>\n",
       "      <td>1.870000e+02</td>\n",
       "      <td>4.130000e+00</td>\n",
       "    </tr>\n",
       "    <tr>\n",
       "      <th>max</th>\n",
       "      <td>4.899965e+06</td>\n",
       "      <td>5.000000e+00</td>\n",
       "    </tr>\n",
       "  </tbody>\n",
       "</table>\n",
       "</div>"
      ],
      "text/plain": [
       "             rating  average_rating\n",
       "count  1.308957e+06    1.308957e+06\n",
       "mean   7.279124e+02    3.885648e+00\n",
       "std    1.493248e+04    3.611875e-01\n",
       "min    1.600000e+01    0.000000e+00\n",
       "25%    3.000000e+01    3.670000e+00\n",
       "50%    6.400000e+01    3.910000e+00\n",
       "75%    1.870000e+02    4.130000e+00\n",
       "max    4.899965e+06    5.000000e+00"
      ]
     },
     "execution_count": 25,
     "metadata": {},
     "output_type": "execute_result"
    }
   ],
   "source": [
    "titles.describe()"
   ]
  },
  {
   "cell_type": "code",
   "execution_count": 26,
   "metadata": {},
   "outputs": [],
   "source": [
    "from sklearn.feature_extraction.text import TfidfVectorizer\n",
    "vector = TfidfVectorizer()\n",
    "tfidf = vector.fit_transform(titles['edit_title'])"
   ]
  },
  {
   "cell_type": "code",
   "execution_count": 27,
   "metadata": {},
   "outputs": [],
   "source": [
    "# create a cosine similarity matrix with filtered data\n",
    "from sklearn.metrics.pairwise import cosine_similarity\n",
    "import re\n",
    "\n",
    "# Function to make the URLs clickable\n",
    "def make_clickable(val):\n",
    "    return '<a target=\"_blank\" href=\"{}\">click</a>'.format(val)\n",
    "\n",
    "# Function to display images\n",
    "def show_image(val):\n",
    "    return '<img src=\"{}\" width=\"100\" height=\"100\">'.format(val)\n",
    "\n",
    "# Function to search for books\n",
    "def search(query):\n",
    "    query = re.sub(\"[^a-zA-Z0-9 ]\", \"\", query.lower())\n",
    "    query_vector = vector.transform([query])\n",
    "    similarity = cosine_similarity(query_vector, tfidf).flatten()\n",
    "    indices = np.argpartition(similarity, -10)[-10:]\n",
    "    results = titles.loc[indices]\n",
    "    results.sort_values('rating', ascending=False, inplace=True)\n",
    "    return results.head(10).style.format({'url': make_clickable, 'image_url': show_image})\n"
   ]
  },
  {
   "cell_type": "code",
   "execution_count": 32,
   "metadata": {},
   "outputs": [
    {
     "data": {
      "text/html": [
       "<style type=\"text/css\">\n",
       "</style>\n",
       "<table id=\"T_65ee0\">\n",
       "  <thead>\n",
       "    <tr>\n",
       "      <th class=\"blank level0\" >&nbsp;</th>\n",
       "      <th id=\"T_65ee0_level0_col0\" class=\"col_heading level0 col0\" >book_id</th>\n",
       "      <th id=\"T_65ee0_level0_col1\" class=\"col_heading level0 col1\" >title</th>\n",
       "      <th id=\"T_65ee0_level0_col2\" class=\"col_heading level0 col2\" >rating</th>\n",
       "      <th id=\"T_65ee0_level0_col3\" class=\"col_heading level0 col3\" >url</th>\n",
       "      <th id=\"T_65ee0_level0_col4\" class=\"col_heading level0 col4\" >image_url</th>\n",
       "      <th id=\"T_65ee0_level0_col5\" class=\"col_heading level0 col5\" >average_rating</th>\n",
       "      <th id=\"T_65ee0_level0_col6\" class=\"col_heading level0 col6\" >edit_title</th>\n",
       "    </tr>\n",
       "  </thead>\n",
       "  <tbody>\n",
       "    <tr>\n",
       "      <th id=\"T_65ee0_level0_row0\" class=\"row_heading level0 row0\" >324</th>\n",
       "      <td id=\"T_65ee0_row0_col0\" class=\"data row0 col0\" >54270</td>\n",
       "      <td id=\"T_65ee0_row0_col1\" class=\"data row0 col1\" >Mein Kampf</td>\n",
       "      <td id=\"T_65ee0_row0_col2\" class=\"data row0 col2\" >16837</td>\n",
       "      <td id=\"T_65ee0_row0_col3\" class=\"data row0 col3\" ><a target=\"_blank\" href=\"https://www.goodreads.com/book/show/54270.Mein_Kampf\">click</a></td>\n",
       "      <td id=\"T_65ee0_row0_col4\" class=\"data row0 col4\" ><img src=\"https://images.gr-assets.com/books/1395618385m/54270.jpg\" width=\"100\" height=\"100\"></td>\n",
       "      <td id=\"T_65ee0_row0_col5\" class=\"data row0 col5\" >3.130000</td>\n",
       "      <td id=\"T_65ee0_row0_col6\" class=\"data row0 col6\" >mein kampf</td>\n",
       "    </tr>\n",
       "    <tr>\n",
       "      <th id=\"T_65ee0_level0_row1\" class=\"row_heading level0 row1\" >1219923</th>\n",
       "      <td id=\"T_65ee0_row1_col0\" class=\"data row1 col0\" >741235</td>\n",
       "      <td id=\"T_65ee0_row1_col1\" class=\"data row1 col1\" >Mein Kampf</td>\n",
       "      <td id=\"T_65ee0_row1_col2\" class=\"data row1 col2\" >492</td>\n",
       "      <td id=\"T_65ee0_row1_col3\" class=\"data row1 col3\" ><a target=\"_blank\" href=\"https://www.goodreads.com/book/show/741235.Mein_Kampf\">click</a></td>\n",
       "      <td id=\"T_65ee0_row1_col4\" class=\"data row1 col4\" ><img src=\"https://images.gr-assets.com/books/1363985501m/741235.jpg\" width=\"100\" height=\"100\"></td>\n",
       "      <td id=\"T_65ee0_row1_col5\" class=\"data row1 col5\" >3.130000</td>\n",
       "      <td id=\"T_65ee0_row1_col6\" class=\"data row1 col6\" >mein kampf</td>\n",
       "    </tr>\n",
       "    <tr>\n",
       "      <th id=\"T_65ee0_level0_row2\" class=\"row_heading level0 row2\" >603175</th>\n",
       "      <td id=\"T_65ee0_row2_col0\" class=\"data row2 col0\" >642623</td>\n",
       "      <td id=\"T_65ee0_row2_col1\" class=\"data row2 col1\" >Mein Kampf</td>\n",
       "      <td id=\"T_65ee0_row2_col2\" class=\"data row2 col2\" >454</td>\n",
       "      <td id=\"T_65ee0_row2_col3\" class=\"data row2 col3\" ><a target=\"_blank\" href=\"https://www.goodreads.com/book/show/642623.Mein_Kampf\">click</a></td>\n",
       "      <td id=\"T_65ee0_row2_col4\" class=\"data row2 col4\" ><img src=\"https://s.gr-assets.com/assets/nophoto/book/111x148-bcc042a9c91a29c1d680899eff700a03.png\" width=\"100\" height=\"100\"></td>\n",
       "      <td id=\"T_65ee0_row2_col5\" class=\"data row2 col5\" >3.130000</td>\n",
       "      <td id=\"T_65ee0_row2_col6\" class=\"data row2 col6\" >mein kampf</td>\n",
       "    </tr>\n",
       "    <tr>\n",
       "      <th id=\"T_65ee0_level0_row3\" class=\"row_heading level0 row3\" >215294</th>\n",
       "      <td id=\"T_65ee0_row3_col0\" class=\"data row3 col0\" >18890332</td>\n",
       "      <td id=\"T_65ee0_row3_col1\" class=\"data row3 col1\" >Mein Kampf</td>\n",
       "      <td id=\"T_65ee0_row3_col2\" class=\"data row3 col2\" >124</td>\n",
       "      <td id=\"T_65ee0_row3_col3\" class=\"data row3 col3\" ><a target=\"_blank\" href=\"https://www.goodreads.com/book/show/18890332-mein-kampf\">click</a></td>\n",
       "      <td id=\"T_65ee0_row3_col4\" class=\"data row3 col4\" ><img src=\"https://s.gr-assets.com/assets/nophoto/book/111x148-bcc042a9c91a29c1d680899eff700a03.png\" width=\"100\" height=\"100\"></td>\n",
       "      <td id=\"T_65ee0_row3_col5\" class=\"data row3 col5\" >3.130000</td>\n",
       "      <td id=\"T_65ee0_row3_col6\" class=\"data row3 col6\" >mein kampf</td>\n",
       "    </tr>\n",
       "    <tr>\n",
       "      <th id=\"T_65ee0_level0_row4\" class=\"row_heading level0 row4\" >988194</th>\n",
       "      <td id=\"T_65ee0_row4_col0\" class=\"data row4 col0\" >426749</td>\n",
       "      <td id=\"T_65ee0_row4_col1\" class=\"data row4 col1\" >Mein Kampf</td>\n",
       "      <td id=\"T_65ee0_row4_col2\" class=\"data row4 col2\" >59</td>\n",
       "      <td id=\"T_65ee0_row4_col3\" class=\"data row4 col3\" ><a target=\"_blank\" href=\"https://www.goodreads.com/book/show/426749.Mein_Kampf\">click</a></td>\n",
       "      <td id=\"T_65ee0_row4_col4\" class=\"data row4 col4\" ><img src=\"https://s.gr-assets.com/assets/nophoto/book/111x148-bcc042a9c91a29c1d680899eff700a03.png\" width=\"100\" height=\"100\"></td>\n",
       "      <td id=\"T_65ee0_row4_col5\" class=\"data row4 col5\" >3.130000</td>\n",
       "      <td id=\"T_65ee0_row4_col6\" class=\"data row4 col6\" >mein kampf</td>\n",
       "    </tr>\n",
       "    <tr>\n",
       "      <th id=\"T_65ee0_level0_row5\" class=\"row_heading level0 row5\" >934488</th>\n",
       "      <td id=\"T_65ee0_row5_col0\" class=\"data row5 col0\" >1239884</td>\n",
       "      <td id=\"T_65ee0_row5_col1\" class=\"data row5 col1\" >Mein Kampf</td>\n",
       "      <td id=\"T_65ee0_row5_col2\" class=\"data row5 col2\" >58</td>\n",
       "      <td id=\"T_65ee0_row5_col3\" class=\"data row5 col3\" ><a target=\"_blank\" href=\"https://www.goodreads.com/book/show/1239884.Mein_Kampf\">click</a></td>\n",
       "      <td id=\"T_65ee0_row5_col4\" class=\"data row5 col4\" ><img src=\"https://s.gr-assets.com/assets/nophoto/book/111x148-bcc042a9c91a29c1d680899eff700a03.png\" width=\"100\" height=\"100\"></td>\n",
       "      <td id=\"T_65ee0_row5_col5\" class=\"data row5 col5\" >3.130000</td>\n",
       "      <td id=\"T_65ee0_row5_col6\" class=\"data row5 col6\" >mein kampf</td>\n",
       "    </tr>\n",
       "    <tr>\n",
       "      <th id=\"T_65ee0_level0_row6\" class=\"row_heading level0 row6\" >62630</th>\n",
       "      <td id=\"T_65ee0_row6_col0\" class=\"data row6 col0\" >19017887</td>\n",
       "      <td id=\"T_65ee0_row6_col1\" class=\"data row6 col1\" >Mein Kampf</td>\n",
       "      <td id=\"T_65ee0_row6_col2\" class=\"data row6 col2\" >35</td>\n",
       "      <td id=\"T_65ee0_row6_col3\" class=\"data row6 col3\" ><a target=\"_blank\" href=\"https://www.goodreads.com/book/show/19017887-mein-kampf\">click</a></td>\n",
       "      <td id=\"T_65ee0_row6_col4\" class=\"data row6 col4\" ><img src=\"https://s.gr-assets.com/assets/nophoto/book/111x148-bcc042a9c91a29c1d680899eff700a03.png\" width=\"100\" height=\"100\"></td>\n",
       "      <td id=\"T_65ee0_row6_col5\" class=\"data row6 col5\" >3.130000</td>\n",
       "      <td id=\"T_65ee0_row6_col6\" class=\"data row6 col6\" >mein kampf</td>\n",
       "    </tr>\n",
       "    <tr>\n",
       "      <th id=\"T_65ee0_level0_row7\" class=\"row_heading level0 row7\" >84317</th>\n",
       "      <td id=\"T_65ee0_row7_col0\" class=\"data row7 col0\" >3427872</td>\n",
       "      <td id=\"T_65ee0_row7_col1\" class=\"data row7 col1\" >Mein Kampf</td>\n",
       "      <td id=\"T_65ee0_row7_col2\" class=\"data row7 col2\" >27</td>\n",
       "      <td id=\"T_65ee0_row7_col3\" class=\"data row7 col3\" ><a target=\"_blank\" href=\"https://www.goodreads.com/book/show/3427872-mein-kampf\">click</a></td>\n",
       "      <td id=\"T_65ee0_row7_col4\" class=\"data row7 col4\" ><img src=\"https://s.gr-assets.com/assets/nophoto/book/111x148-bcc042a9c91a29c1d680899eff700a03.png\" width=\"100\" height=\"100\"></td>\n",
       "      <td id=\"T_65ee0_row7_col5\" class=\"data row7 col5\" >3.130000</td>\n",
       "      <td id=\"T_65ee0_row7_col6\" class=\"data row7 col6\" >mein kampf</td>\n",
       "    </tr>\n",
       "    <tr>\n",
       "      <th id=\"T_65ee0_level0_row8\" class=\"row_heading level0 row8\" >261121</th>\n",
       "      <td id=\"T_65ee0_row8_col0\" class=\"data row8 col0\" >7296820</td>\n",
       "      <td id=\"T_65ee0_row8_col1\" class=\"data row8 col1\" >Mein Kampf</td>\n",
       "      <td id=\"T_65ee0_row8_col2\" class=\"data row8 col2\" >23</td>\n",
       "      <td id=\"T_65ee0_row8_col3\" class=\"data row8 col3\" ><a target=\"_blank\" href=\"https://www.goodreads.com/book/show/7296820-mein-kampf\">click</a></td>\n",
       "      <td id=\"T_65ee0_row8_col4\" class=\"data row8 col4\" ><img src=\"https://s.gr-assets.com/assets/nophoto/book/111x148-bcc042a9c91a29c1d680899eff700a03.png\" width=\"100\" height=\"100\"></td>\n",
       "      <td id=\"T_65ee0_row8_col5\" class=\"data row8 col5\" >3.130000</td>\n",
       "      <td id=\"T_65ee0_row8_col6\" class=\"data row8 col6\" >mein kampf</td>\n",
       "    </tr>\n",
       "    <tr>\n",
       "      <th id=\"T_65ee0_level0_row9\" class=\"row_heading level0 row9\" >1109638</th>\n",
       "      <td id=\"T_65ee0_row9_col0\" class=\"data row9 col0\" >8071859</td>\n",
       "      <td id=\"T_65ee0_row9_col1\" class=\"data row9 col1\" >Mein Kampf</td>\n",
       "      <td id=\"T_65ee0_row9_col2\" class=\"data row9 col2\" >22</td>\n",
       "      <td id=\"T_65ee0_row9_col3\" class=\"data row9 col3\" ><a target=\"_blank\" href=\"https://www.goodreads.com/book/show/8071859-mein-kampf\">click</a></td>\n",
       "      <td id=\"T_65ee0_row9_col4\" class=\"data row9 col4\" ><img src=\"https://images.gr-assets.com/books/1349080224m/8071859.jpg\" width=\"100\" height=\"100\"></td>\n",
       "      <td id=\"T_65ee0_row9_col5\" class=\"data row9 col5\" >3.140000</td>\n",
       "      <td id=\"T_65ee0_row9_col6\" class=\"data row9 col6\" >mein kampf</td>\n",
       "    </tr>\n",
       "  </tbody>\n",
       "</table>\n"
      ],
      "text/plain": [
       "<pandas.io.formats.style.Styler at 0x27bf6981b80>"
      ]
     },
     "execution_count": 32,
     "metadata": {},
     "output_type": "execute_result"
    }
   ],
   "source": [
    "search('Mein Kampf')"
   ]
  },
  {
   "cell_type": "code",
   "execution_count": 29,
   "metadata": {},
   "outputs": [],
   "source": [
    "titles.to_csv('D:\\\\Data_Science\\\\My projects in Data Science and ML\\\\extra files for book recommendation\\\\titles.csv', index=False)"
   ]
  },
  {
   "cell_type": "code",
   "execution_count": null,
   "metadata": {},
   "outputs": [],
   "source": []
  }
 ],
 "metadata": {
  "kernelspec": {
   "display_name": "base",
   "language": "python",
   "name": "python3"
  },
  "language_info": {
   "codemirror_mode": {
    "name": "ipython",
    "version": 3
   },
   "file_extension": ".py",
   "mimetype": "text/x-python",
   "name": "python",
   "nbconvert_exporter": "python",
   "pygments_lexer": "ipython3",
   "version": "3.12.3"
  }
 },
 "nbformat": 4,
 "nbformat_minor": 2
}
